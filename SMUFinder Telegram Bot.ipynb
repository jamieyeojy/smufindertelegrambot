{
 "cells": [
  {
   "cell_type": "markdown",
   "metadata": {},
   "source": [
    "<table class=\"table\">\n",
    "    <tr>\n",
    "        <th style=\"text-align:left; vertical-align: middle; width:15%\">\n",
    "            <img src='img/image.png' style=\"height: 110px; \">\n",
    "        </th>\n",
    "        <th style=\"text-align:right; vertical-align: middle;\">\n",
    "            <h3>SMT203: Smart City Systems and Management</h3>\n",
    "            <h3>Academic Year 2018/19</h3>\n",
    "            <h3>Term 2</h3>\n",
    "        </th>\n",
    "    </tr>\n",
    "</table>\n",
    "\n",
    "# SMUFinder Telegram Bot - Data Visualisation\n",
    "**Done by:** Jamie Yeo Jin Yih\n",
    "\n",
    "**SMUFinder Telegram Bot** strives to improve SMU’s existing unofficial online Lost & Found system on Telegram through a dedicated one-stop platform that allows users to report found items via a Telegram bot - SMUFinder. To enhance the item searching process, all found items reported are categorised, and all filtered search results are displayed on a webpage. \n",
    "\n",
    "Ultimately, this aims to provide students with a more seamless lost & found reporting process in SMU.\n",
    "<hr>"
   ]
  },
  {
   "cell_type": "code",
   "execution_count": 1,
   "metadata": {},
   "outputs": [
    {
     "data": {
      "text/html": [
       "<script type=\"text/javascript\">window.PlotlyConfig = {MathJaxConfig: 'local'};</script><script type=\"text/javascript\">if (window.MathJax) {MathJax.Hub.Config({SVG: {font: \"STIX-Web\"}});}</script><script>requirejs.config({paths: { 'plotly': ['https://cdn.plot.ly/plotly-latest.min']},});if(!window._Plotly) {require(['plotly'],function(plotly) {window._Plotly=plotly;});}</script>"
      ],
      "text/vnd.plotly.v1+html": [
       "<script type=\"text/javascript\">window.PlotlyConfig = {MathJaxConfig: 'local'};</script><script type=\"text/javascript\">if (window.MathJax) {MathJax.Hub.Config({SVG: {font: \"STIX-Web\"}});}</script><script>requirejs.config({paths: { 'plotly': ['https://cdn.plot.ly/plotly-latest.min']},});if(!window._Plotly) {require(['plotly'],function(plotly) {window._Plotly=plotly;});}</script>"
      ]
     },
     "metadata": {},
     "output_type": "display_data"
    }
   ],
   "source": [
    "import plotly.graph_objs as go\n",
    "from plotly.offline import download_plotlyjs, init_notebook_mode, plot, iplot\n",
    "\n",
    "init_notebook_mode(connected=True)"
   ]
  },
  {
   "cell_type": "markdown",
   "metadata": {},
   "source": [
    "We will first try to plot data from an `API GET` call. "
   ]
  },
  {
   "cell_type": "code",
   "execution_count": 2,
   "metadata": {},
   "outputs": [
    {
     "name": "stdout",
     "output_type": "stream",
     "text": [
      "[\n",
      "  {\n",
      "    \"found_at_building\": \"SIS\",\n",
      "    \"found_at_facilities\": \"L3 Female Toilet\",\n",
      "    \"founder\": 111111111,\n",
      "    \"item_description\": \"Black Wallet\",\n",
      "    \"itemtype\": \"Wallet\",\n",
      "    \"left_at_building\": \"SIS\",\n",
      "    \"left_at_facilities\": \"L3 Female Toilet\",\n",
      "    \"photo\": \"photo1\",\n",
      "    \"retriever\": 111111111,\n",
      "    \"rid\": 1,\n",
      "    \"status\": \"expired\",\n",
      "    \"timestamp\": \"Fri, 05 Apr 2019 07:21:55 GMT\"\n",
      "  },\n",
      "  {\n",
      "    \"found_at_building\": \"SIS\",\n",
      "    \"found_at_facilities\": \"L3 Female Toilet\",\n",
      "    \"founder\": 111111112,\n",
      "    \"item_description\": \"White Wallet\",\n",
      "    \"itemtype\": \"Wallet\",\n",
      "    \"left_at_building\": \"SIS\",\n",
      "    \"left_at_facilities\": \"L2 Female Toilet\",\n",
      "    \"photo\": \"photo2\",\n",
      "    \"retriever\": 111111112,\n",
      "    \"rid\": 2,\n",
      "    \"status\": \"expired\",\n",
      "    \"timestamp\": \"Fri, 05 Apr 2019 07:22:02 GMT\"\n",
      "  },\n",
      "  {\n",
      "    \"found_at_building\": \"SIS\",\n",
      "    \"found_at_facilities\": \"SIS project way\",\n",
      "    \"founder\": 111111113,\n",
      "    \"item_description\": \"Mac Charger\",\n",
      "    \"itemtype\": \"Laptop Charger\",\n",
      "    \"left_at_building\": \"SIS\",\n",
      "    \"left_at_facilities\": \"SIS project way\",\n",
      "    \"photo\": \"photo3\",\n",
      "    \"retriever\": 111111113,\n",
      "    \"rid\": 3,\n",
      "    \"status\": \"retrieved\",\n",
      "    \"timestamp\": \"Fri, 05 Apr 2019 07:22:28 GMT\"\n",
      "  },\n",
      "  {\n",
      "    \"found_at_building\": \"SIS\",\n",
      "    \"found_at_facilities\": \"SIS project way\",\n",
      "    \"founder\": 111111114,\n",
      "    \"item_description\": \"Mac Charger\",\n",
      "    \"itemtype\": \"Laptop Charger\",\n",
      "    \"left_at_building\": \"SIS\",\n",
      "    \"left_at_facilities\": \"SIS project way\",\n",
      "    \"photo\": \"photo3\",\n",
      "    \"retriever\": 111111114,\n",
      "    \"rid\": 4,\n",
      "    \"status\": \"retrieved\",\n",
      "    \"timestamp\": \"Fri, 05 Apr 2019 07:23:36 GMT\"\n",
      "  },\n",
      "  {\n",
      "    \"found_at_building\": \"SIS\",\n",
      "    \"found_at_facilities\": \"SIS project way\",\n",
      "    \"founder\": 111111115,\n",
      "    \"item_description\": \"Acer Charger\",\n",
      "    \"itemtype\": \"Laptop Charger\",\n",
      "    \"left_at_building\": \"SIS\",\n",
      "    \"left_at_facilities\": \"SIS project way\",\n",
      "    \"photo\": \"photo3\",\n",
      "    \"retriever\": 111111115,\n",
      "    \"rid\": 5,\n",
      "    \"status\": \"retrieved\",\n",
      "    \"timestamp\": \"Fri, 05 Apr 2019 07:23:41 GMT\"\n",
      "  },\n",
      "  {\n",
      "    \"found_at_building\": \"SIS\",\n",
      "    \"found_at_facilities\": \"SIS project way\",\n",
      "    \"founder\": 111111116,\n",
      "    \"item_description\": \"HP Charger\",\n",
      "    \"itemtype\": \"Laptop Charger\",\n",
      "    \"left_at_building\": \"SIS\",\n",
      "    \"left_at_facilities\": \"SIS project way\",\n",
      "    \"photo\": \"photo3\",\n",
      "    \"retriever\": 111111116,\n",
      "    \"rid\": 6,\n",
      "    \"status\": \"retrieved\",\n",
      "    \"timestamp\": \"Fri, 05 Apr 2019 07:23:44 GMT\"\n",
      "  },\n",
      "  {\n",
      "    \"found_at_building\": \"SIS\",\n",
      "    \"found_at_facilities\": \"SIS project way\",\n",
      "    \"founder\": 111111117,\n",
      "    \"item_description\": \"Asus Charger\",\n",
      "    \"itemtype\": \"Laptop Charger\",\n",
      "    \"left_at_building\": \"SIS\",\n",
      "    \"left_at_facilities\": \"SIS project way\",\n",
      "    \"photo\": \"photo3\",\n",
      "    \"retriever\": 111111117,\n",
      "    \"rid\": 7,\n",
      "    \"status\": \"retrieved\",\n",
      "    \"timestamp\": \"Fri, 05 Apr 2019 07:23:49 GMT\"\n",
      "  },\n",
      "  {\n",
      "    \"found_at_building\": \"SIS\",\n",
      "    \"found_at_facilities\": \"L3 Printing Rm\",\n",
      "    \"founder\": 111111118,\n",
      "    \"item_description\": \"Matri Card\",\n",
      "    \"itemtype\": \"Matriculation Card\",\n",
      "    \"left_at_building\": \"Others\",\n",
      "    \"left_at_facilities\": \"Campus Security\",\n",
      "    \"photo\": \"photo8\",\n",
      "    \"retriever\": 111111118,\n",
      "    \"rid\": 8,\n",
      "    \"status\": \"retrieved\",\n",
      "    \"timestamp\": \"Fri, 05 Apr 2019 07:23:53 GMT\"\n",
      "  },\n",
      "  {\n",
      "    \"found_at_building\": \"SIS\",\n",
      "    \"found_at_facilities\": \"L2 Printing Rm\",\n",
      "    \"founder\": 111111118,\n",
      "    \"item_description\": \"Matri Card\",\n",
      "    \"itemtype\": \"Matriculation Card\",\n",
      "    \"left_at_building\": \"Others\",\n",
      "    \"left_at_facilities\": \"Campus Security\",\n",
      "    \"photo\": \"photo9\",\n",
      "    \"retriever\": 111111118,\n",
      "    \"rid\": 9,\n",
      "    \"status\": \"retrieved\",\n",
      "    \"timestamp\": \"Fri, 05 Apr 2019 07:24:07 GMT\"\n",
      "  },\n",
      "  {\n",
      "    \"found_at_building\": \"SIS\",\n",
      "    \"found_at_facilities\": \"L2 Printing Rm\",\n",
      "    \"founder\": 111111119,\n",
      "    \"item_description\": \"Matri Card\",\n",
      "    \"itemtype\": \"Matriculation Card\",\n",
      "    \"left_at_building\": \"Others\",\n",
      "    \"left_at_facilities\": \"Campus Security\",\n",
      "    \"photo\": \"photo9\",\n",
      "    \"retriever\": 111111119,\n",
      "    \"rid\": 10,\n",
      "    \"status\": \"retrieved\",\n",
      "    \"timestamp\": \"Fri, 05 Apr 2019 07:24:11 GMT\"\n",
      "  },\n",
      "  {\n",
      "    \"found_at_building\": \"SIS\",\n",
      "    \"found_at_facilities\": \"GSR-2-2\",\n",
      "    \"founder\": 111111118,\n",
      "    \"item_description\": \"we decided to remove this please ignore\",\n",
      "    \"itemtype\": \"Matriculation Card\",\n",
      "    \"left_at_building\": \"SIS\",\n",
      "    \"left_at_facilities\": \"GSR-2-2\",\n",
      "    \"photo\": \"photo9\",\n",
      "    \"retriever\": null,\n",
      "    \"rid\": 13,\n",
      "    \"status\": \"available\",\n",
      "    \"timestamp\": \"Fri, 05 Apr 2019 09:13:19 GMT\"\n",
      "  },\n",
      "  {\n",
      "    \"found_at_building\": \"SIS\",\n",
      "    \"found_at_facilities\": \"SR-3-1\",\n",
      "    \"founder\": 448821215,\n",
      "    \"item_description\": \"null\",\n",
      "    \"itemtype\": \"Wallet\",\n",
      "    \"left_at_building\": \"Li Ka Shing Library\",\n",
      "    \"left_at_facilities\": \"The Hive\",\n",
      "    \"photo\": \"No photos\",\n",
      "    \"retriever\": null,\n",
      "    \"rid\": 15,\n",
      "    \"status\": \"available\",\n",
      "    \"timestamp\": \"Sat, 06 Apr 2019 02:27:42 GMT\"\n",
      "  },\n",
      "  {\n",
      "    \"found_at_building\": \"SIS\",\n",
      "    \"found_at_facilities\": \"SR-3-2\",\n",
      "    \"founder\": 448821215,\n",
      "    \"item_description\": \"null\",\n",
      "    \"itemtype\": \"Others\",\n",
      "    \"left_at_building\": \"SIS\",\n",
      "    \"left_at_facilities\": \"SR-3-2\",\n",
      "    \"photo\": \"AgADBQAD-agxGy5ZQVXZVKgowBzSBlKA3zIABF90hLrSW9QFYVoDAAEC\",\n",
      "    \"retriever\": null,\n",
      "    \"rid\": 16,\n",
      "    \"status\": \"available\",\n",
      "    \"timestamp\": \"Sat, 06 Apr 2019 02:34:03 GMT\"\n",
      "  },\n",
      "  {\n",
      "    \"found_at_building\": \"SIS\",\n",
      "    \"found_at_facilities\": \"GSR-3-3\",\n",
      "    \"founder\": 448821215,\n",
      "    \"item_description\": \"null\",\n",
      "    \"itemtype\": \"Water Bottle\",\n",
      "    \"left_at_building\": \"Others\",\n",
      "    \"left_at_facilities\": \"Campus Security\",\n",
      "    \"photo\": \"No photos\",\n",
      "    \"retriever\": null,\n",
      "    \"rid\": 17,\n",
      "    \"status\": \"available\",\n",
      "    \"timestamp\": \"Sat, 06 Apr 2019 02:54:41 GMT\"\n",
      "  }\n",
      "]\n"
     ]
    }
   ],
   "source": [
    "import requests\n",
    "import json\n",
    "\n",
    "url_psi = 'https://smufinderapi.herokuapp.com/report/'\n",
    "params = {'date':'2019-04-04'}\n",
    "\n",
    "r = requests.get(url = url_psi, params=params)\n",
    "result = r.json()#convert to json format\n",
    "print(json.dumps(result, indent=2, sort_keys=True))\n"
   ]
  },
  {
   "cell_type": "markdown",
   "metadata": {},
   "source": [
    "In the case of a real-life deployment of the bot, there may be a large number of records, hence it may be useful to know how many found reports are recorded.\n",
    "\n",
    "As this is a test case, only 14 reports are recorded solely for visualisation purposes."
   ]
  },
  {
   "cell_type": "code",
   "execution_count": 3,
   "metadata": {},
   "outputs": [
    {
     "name": "stdout",
     "output_type": "stream",
     "text": [
      "14\n"
     ]
    }
   ],
   "source": [
    "print(len(result))"
   ]
  },
  {
   "cell_type": "markdown",
   "metadata": {},
   "source": [
    "We will proceed to load the entire JSON response into a `dataframe`. We use json_normalize here, because the readings is a nested dictionary.\n",
    "\n"
   ]
  },
  {
   "cell_type": "code",
   "execution_count": 4,
   "metadata": {},
   "outputs": [
    {
     "data": {
      "text/html": [
       "<div>\n",
       "<style scoped>\n",
       "    .dataframe tbody tr th:only-of-type {\n",
       "        vertical-align: middle;\n",
       "    }\n",
       "\n",
       "    .dataframe tbody tr th {\n",
       "        vertical-align: top;\n",
       "    }\n",
       "\n",
       "    .dataframe thead th {\n",
       "        text-align: right;\n",
       "    }\n",
       "</style>\n",
       "<table border=\"1\" class=\"dataframe\">\n",
       "  <thead>\n",
       "    <tr style=\"text-align: right;\">\n",
       "      <th></th>\n",
       "      <th>found_at_building</th>\n",
       "      <th>found_at_facilities</th>\n",
       "      <th>founder</th>\n",
       "      <th>item_description</th>\n",
       "      <th>itemtype</th>\n",
       "      <th>left_at_building</th>\n",
       "      <th>left_at_facilities</th>\n",
       "      <th>photo</th>\n",
       "      <th>retriever</th>\n",
       "      <th>rid</th>\n",
       "      <th>status</th>\n",
       "      <th>timestamp</th>\n",
       "    </tr>\n",
       "  </thead>\n",
       "  <tbody>\n",
       "    <tr>\n",
       "      <th>0</th>\n",
       "      <td>SIS</td>\n",
       "      <td>L3 Female Toilet</td>\n",
       "      <td>111111111</td>\n",
       "      <td>Black Wallet</td>\n",
       "      <td>Wallet</td>\n",
       "      <td>SIS</td>\n",
       "      <td>L3 Female Toilet</td>\n",
       "      <td>photo1</td>\n",
       "      <td>111111111.0</td>\n",
       "      <td>1</td>\n",
       "      <td>expired</td>\n",
       "      <td>Fri, 05 Apr 2019 07:21:55 GMT</td>\n",
       "    </tr>\n",
       "    <tr>\n",
       "      <th>1</th>\n",
       "      <td>SIS</td>\n",
       "      <td>L3 Female Toilet</td>\n",
       "      <td>111111112</td>\n",
       "      <td>White Wallet</td>\n",
       "      <td>Wallet</td>\n",
       "      <td>SIS</td>\n",
       "      <td>L2 Female Toilet</td>\n",
       "      <td>photo2</td>\n",
       "      <td>111111112.0</td>\n",
       "      <td>2</td>\n",
       "      <td>expired</td>\n",
       "      <td>Fri, 05 Apr 2019 07:22:02 GMT</td>\n",
       "    </tr>\n",
       "    <tr>\n",
       "      <th>2</th>\n",
       "      <td>SIS</td>\n",
       "      <td>SIS project way</td>\n",
       "      <td>111111113</td>\n",
       "      <td>Mac Charger</td>\n",
       "      <td>Laptop Charger</td>\n",
       "      <td>SIS</td>\n",
       "      <td>SIS project way</td>\n",
       "      <td>photo3</td>\n",
       "      <td>111111113.0</td>\n",
       "      <td>3</td>\n",
       "      <td>retrieved</td>\n",
       "      <td>Fri, 05 Apr 2019 07:22:28 GMT</td>\n",
       "    </tr>\n",
       "    <tr>\n",
       "      <th>3</th>\n",
       "      <td>SIS</td>\n",
       "      <td>SIS project way</td>\n",
       "      <td>111111114</td>\n",
       "      <td>Mac Charger</td>\n",
       "      <td>Laptop Charger</td>\n",
       "      <td>SIS</td>\n",
       "      <td>SIS project way</td>\n",
       "      <td>photo3</td>\n",
       "      <td>111111114.0</td>\n",
       "      <td>4</td>\n",
       "      <td>retrieved</td>\n",
       "      <td>Fri, 05 Apr 2019 07:23:36 GMT</td>\n",
       "    </tr>\n",
       "    <tr>\n",
       "      <th>4</th>\n",
       "      <td>SIS</td>\n",
       "      <td>SIS project way</td>\n",
       "      <td>111111115</td>\n",
       "      <td>Acer Charger</td>\n",
       "      <td>Laptop Charger</td>\n",
       "      <td>SIS</td>\n",
       "      <td>SIS project way</td>\n",
       "      <td>photo3</td>\n",
       "      <td>111111115.0</td>\n",
       "      <td>5</td>\n",
       "      <td>retrieved</td>\n",
       "      <td>Fri, 05 Apr 2019 07:23:41 GMT</td>\n",
       "    </tr>\n",
       "  </tbody>\n",
       "</table>\n",
       "</div>"
      ],
      "text/plain": [
       "  found_at_building found_at_facilities    founder item_description  \\\n",
       "0               SIS    L3 Female Toilet  111111111     Black Wallet   \n",
       "1               SIS    L3 Female Toilet  111111112     White Wallet   \n",
       "2               SIS     SIS project way  111111113      Mac Charger   \n",
       "3               SIS     SIS project way  111111114      Mac Charger   \n",
       "4               SIS     SIS project way  111111115     Acer Charger   \n",
       "\n",
       "         itemtype left_at_building left_at_facilities   photo    retriever  \\\n",
       "0          Wallet              SIS   L3 Female Toilet  photo1  111111111.0   \n",
       "1          Wallet              SIS   L2 Female Toilet  photo2  111111112.0   \n",
       "2  Laptop Charger              SIS    SIS project way  photo3  111111113.0   \n",
       "3  Laptop Charger              SIS    SIS project way  photo3  111111114.0   \n",
       "4  Laptop Charger              SIS    SIS project way  photo3  111111115.0   \n",
       "\n",
       "   rid     status                      timestamp  \n",
       "0    1    expired  Fri, 05 Apr 2019 07:21:55 GMT  \n",
       "1    2    expired  Fri, 05 Apr 2019 07:22:02 GMT  \n",
       "2    3  retrieved  Fri, 05 Apr 2019 07:22:28 GMT  \n",
       "3    4  retrieved  Fri, 05 Apr 2019 07:23:36 GMT  \n",
       "4    5  retrieved  Fri, 05 Apr 2019 07:23:41 GMT  "
      ]
     },
     "execution_count": 4,
     "metadata": {},
     "output_type": "execute_result"
    }
   ],
   "source": [
    "from pandas.io.json import json_normalize\n",
    "\n",
    "df_reports = json_normalize(result) #\n",
    "df_reports.head() #view first 5 reports"
   ]
  },
  {
   "cell_type": "markdown",
   "metadata": {},
   "source": [
    "<hr>\n",
    "# Data Visualisation\n",
    "\n",
    "We will now plot `graphs` that depict interesting trends extracted from all data collected from our SMUFinder telegram bot.\n",
    "<hr>"
   ]
  },
  {
   "cell_type": "markdown",
   "metadata": {},
   "source": [
    "## 1. Facility in SIS with highest number of found items reported"
   ]
  },
  {
   "cell_type": "code",
   "execution_count": 5,
   "metadata": {},
   "outputs": [
    {
     "data": {
      "text/html": [
       "<div>\n",
       "<style scoped>\n",
       "    .dataframe tbody tr th:only-of-type {\n",
       "        vertical-align: middle;\n",
       "    }\n",
       "\n",
       "    .dataframe tbody tr th {\n",
       "        vertical-align: top;\n",
       "    }\n",
       "\n",
       "    .dataframe thead th {\n",
       "        text-align: right;\n",
       "    }\n",
       "</style>\n",
       "<table border=\"1\" class=\"dataframe\">\n",
       "  <thead>\n",
       "    <tr style=\"text-align: right;\">\n",
       "      <th></th>\n",
       "      <th>found_at_facilities</th>\n",
       "      <th>count_locations</th>\n",
       "    </tr>\n",
       "  </thead>\n",
       "  <tbody>\n",
       "    <tr>\n",
       "      <th>0</th>\n",
       "      <td>GSR-2-2</td>\n",
       "      <td>1</td>\n",
       "    </tr>\n",
       "    <tr>\n",
       "      <th>1</th>\n",
       "      <td>GSR-3-3</td>\n",
       "      <td>1</td>\n",
       "    </tr>\n",
       "    <tr>\n",
       "      <th>2</th>\n",
       "      <td>L2 Printing Rm</td>\n",
       "      <td>2</td>\n",
       "    </tr>\n",
       "    <tr>\n",
       "      <th>3</th>\n",
       "      <td>L3 Female Toilet</td>\n",
       "      <td>2</td>\n",
       "    </tr>\n",
       "    <tr>\n",
       "      <th>4</th>\n",
       "      <td>L3 Printing Rm</td>\n",
       "      <td>1</td>\n",
       "    </tr>\n",
       "    <tr>\n",
       "      <th>5</th>\n",
       "      <td>SIS project way</td>\n",
       "      <td>5</td>\n",
       "    </tr>\n",
       "    <tr>\n",
       "      <th>6</th>\n",
       "      <td>SR-3-1</td>\n",
       "      <td>1</td>\n",
       "    </tr>\n",
       "    <tr>\n",
       "      <th>7</th>\n",
       "      <td>SR-3-2</td>\n",
       "      <td>1</td>\n",
       "    </tr>\n",
       "  </tbody>\n",
       "</table>\n",
       "</div>"
      ],
      "text/plain": [
       "  found_at_facilities  count_locations\n",
       "0             GSR-2-2                1\n",
       "1             GSR-3-3                1\n",
       "2      L2 Printing Rm                2\n",
       "3    L3 Female Toilet                2\n",
       "4      L3 Printing Rm                1\n",
       "5     SIS project way                5\n",
       "6              SR-3-1                1\n",
       "7              SR-3-2                1"
      ]
     },
     "execution_count": 5,
     "metadata": {},
     "output_type": "execute_result"
    }
   ],
   "source": [
    "count_locations = df_reports.groupby('found_at_facilities')\n",
    "count_locations1 = count_locations.size().reset_index(name='count_locations')\n",
    "# count_locations1 = go.Bar(x=df_reports['found_at_facilities'], y = name='df_reports')\n",
    "# data = [trace_females]\n",
    "# iplot(data)\n",
    "count_locations1"
   ]
  },
  {
   "cell_type": "code",
   "execution_count": 31,
   "metadata": {
    "scrolled": true
   },
   "outputs": [
    {
     "data": {
      "application/vnd.plotly.v1+json": {
       "config": {
        "linkText": "Export to plot.ly",
        "plotlyServerURL": "https://plot.ly",
        "showLink": false
       },
       "data": [
        {
         "name": "found_at_facilities",
         "type": "bar",
         "uid": "16cd1e3d-f746-45b3-ad50-5b9ac08860fd",
         "x": [
          "GSR-2-2",
          "GSR-3-3",
          "L2 Printing Rm",
          "L3 Female Toilet",
          "L3 Printing Rm",
          "SIS project way",
          "SR-3-1",
          "SR-3-2"
         ],
         "y": [
          1,
          1,
          2,
          2,
          1,
          5,
          1,
          1
         ]
        }
       ],
       "layout": {
        "legend": {
         "x": 1,
         "y": 1
        },
        "showlegend": true,
        "title": {
         "text": "Facility in SIS with highest number of found items reported"
        },
        "xaxis": {
         "title": {
          "text": "Facilities in SIS"
         }
        },
        "yaxis": {
         "title": {
          "text": "No. of items reported found"
         }
        }
       }
      },
      "text/html": [
       "<div id=\"7abd61c3-40f3-47cd-a550-ff6d2a3c04f9\" style=\"height: 525px; width: 100%;\" class=\"plotly-graph-div\"></div><script type=\"text/javascript\">require([\"plotly\"], function(Plotly) { window.PLOTLYENV=window.PLOTLYENV || {};window.PLOTLYENV.BASE_URL=\"https://plot.ly\";\n",
       "if (document.getElementById(\"7abd61c3-40f3-47cd-a550-ff6d2a3c04f9\")) {\n",
       "    Plotly.newPlot(\"7abd61c3-40f3-47cd-a550-ff6d2a3c04f9\", [{\"name\": \"found_at_facilities\", \"x\": [\"GSR-2-2\", \"GSR-3-3\", \"L2 Printing Rm\", \"L3 Female Toilet\", \"L3 Printing Rm\", \"SIS project way\", \"SR-3-1\", \"SR-3-2\"], \"y\": [1, 1, 2, 2, 1, 5, 1, 1], \"type\": \"bar\", \"uid\": \"16cd1e3d-f746-45b3-ad50-5b9ac08860fd\"}], {\"legend\": {\"x\": 1, \"y\": 1}, \"showlegend\": true, \"title\": {\"text\": \"Facility in SIS with highest number of found items reported\"}, \"xaxis\": {\"title\": {\"text\": \"Facilities in SIS\"}}, \"yaxis\": {\"title\": {\"text\": \"No. of items reported found\"}}}, {\"showLink\": false, \"linkText\": \"Export to plot.ly\", \"plotlyServerURL\": \"https://plot.ly\"}); \n",
       "}\n",
       "});</script><script type=\"text/javascript\">window.addEventListener(\"resize\", function(){if (document.getElementById(\"7abd61c3-40f3-47cd-a550-ff6d2a3c04f9\")) {window._Plotly.Plots.resize(document.getElementById(\"7abd61c3-40f3-47cd-a550-ff6d2a3c04f9\"));};})</script>"
      ],
      "text/vnd.plotly.v1+html": [
       "<div id=\"7abd61c3-40f3-47cd-a550-ff6d2a3c04f9\" style=\"height: 525px; width: 100%;\" class=\"plotly-graph-div\"></div><script type=\"text/javascript\">require([\"plotly\"], function(Plotly) { window.PLOTLYENV=window.PLOTLYENV || {};window.PLOTLYENV.BASE_URL=\"https://plot.ly\";\n",
       "if (document.getElementById(\"7abd61c3-40f3-47cd-a550-ff6d2a3c04f9\")) {\n",
       "    Plotly.newPlot(\"7abd61c3-40f3-47cd-a550-ff6d2a3c04f9\", [{\"name\": \"found_at_facilities\", \"x\": [\"GSR-2-2\", \"GSR-3-3\", \"L2 Printing Rm\", \"L3 Female Toilet\", \"L3 Printing Rm\", \"SIS project way\", \"SR-3-1\", \"SR-3-2\"], \"y\": [1, 1, 2, 2, 1, 5, 1, 1], \"type\": \"bar\", \"uid\": \"16cd1e3d-f746-45b3-ad50-5b9ac08860fd\"}], {\"legend\": {\"x\": 1, \"y\": 1}, \"showlegend\": true, \"title\": {\"text\": \"Facility in SIS with highest number of found items reported\"}, \"xaxis\": {\"title\": {\"text\": \"Facilities in SIS\"}}, \"yaxis\": {\"title\": {\"text\": \"No. of items reported found\"}}}, {\"showLink\": false, \"linkText\": \"Export to plot.ly\", \"plotlyServerURL\": \"https://plot.ly\"}); \n",
       "}\n",
       "});</script><script type=\"text/javascript\">window.addEventListener(\"resize\", function(){if (document.getElementById(\"7abd61c3-40f3-47cd-a550-ff6d2a3c04f9\")) {window._Plotly.Plots.resize(document.getElementById(\"7abd61c3-40f3-47cd-a550-ff6d2a3c04f9\"));};})</script>"
      ]
     },
     "metadata": {},
     "output_type": "display_data"
    }
   ],
   "source": [
    "results = go.Bar(x=count_locations1['found_at_facilities'], y=count_locations1['count_locations'], name='found_at_facilities')\n",
    "data = [results]\n",
    "\n",
    "layout = go.Layout(title='Facility in SIS with highest number of found items reported', \n",
    "                   xaxis={'title':'Facilities in SIS'}, \n",
    "                   yaxis={'title':'No. of items reported found'}, showlegend=True, legend=dict(x=1, y=1)) \n",
    "\n",
    "fig = go.Figure(data=data, layout=layout)\n",
    "iplot(fig)\n"
   ]
  },
  {
   "cell_type": "markdown",
   "metadata": {},
   "source": [
    "For this test case, it is easy to identify **SIS project** way as being the facility with the highest number of found items reported. However, in a real life deployment, the differences may not be as stark.\n",
    "\n",
    "We will hence conduct a thorough analysis to extract a more accurate information of the facility with the highest number of found items reported."
   ]
  },
  {
   "cell_type": "code",
   "execution_count": 7,
   "metadata": {},
   "outputs": [
    {
     "data": {
      "text/plain": [
       "found_at_facilities    SIS project way\n",
       "count_locations                      5\n",
       "Name: 5, dtype: object"
      ]
     },
     "execution_count": 7,
     "metadata": {},
     "output_type": "execute_result"
    }
   ],
   "source": [
    "max_facility = count_locations1.loc[count_locations1['count_locations'].idxmax()]\n",
    "max_facility"
   ]
  },
  {
   "cell_type": "markdown",
   "metadata": {},
   "source": [
    "From the `bar graph` and our above analsis, we confirm that **SIS Project Way** is the SIS facility with the highest number of found items reported.\n",
    "<hr>"
   ]
  },
  {
   "cell_type": "markdown",
   "metadata": {},
   "source": [
    "## 1.1 Most common item type found in abovementioned location\n",
    "\n",
    "We are next interested in finding out what sort of item is/are most commonly left behind at the abovementioned location."
   ]
  },
  {
   "cell_type": "markdown",
   "metadata": {},
   "source": [
    "Filter out all found reports for the abovementioned location (SIS Project Way)."
   ]
  },
  {
   "cell_type": "code",
   "execution_count": 8,
   "metadata": {
    "scrolled": false
   },
   "outputs": [
    {
     "data": {
      "text/html": [
       "<div>\n",
       "<style scoped>\n",
       "    .dataframe tbody tr th:only-of-type {\n",
       "        vertical-align: middle;\n",
       "    }\n",
       "\n",
       "    .dataframe tbody tr th {\n",
       "        vertical-align: top;\n",
       "    }\n",
       "\n",
       "    .dataframe thead th {\n",
       "        text-align: right;\n",
       "    }\n",
       "</style>\n",
       "<table border=\"1\" class=\"dataframe\">\n",
       "  <thead>\n",
       "    <tr style=\"text-align: right;\">\n",
       "      <th></th>\n",
       "      <th>found_at_building</th>\n",
       "      <th>found_at_facilities</th>\n",
       "      <th>founder</th>\n",
       "      <th>item_description</th>\n",
       "      <th>itemtype</th>\n",
       "      <th>left_at_building</th>\n",
       "      <th>left_at_facilities</th>\n",
       "      <th>photo</th>\n",
       "      <th>retriever</th>\n",
       "      <th>rid</th>\n",
       "      <th>status</th>\n",
       "      <th>timestamp</th>\n",
       "    </tr>\n",
       "  </thead>\n",
       "  <tbody>\n",
       "    <tr>\n",
       "      <th>2</th>\n",
       "      <td>SIS</td>\n",
       "      <td>SIS project way</td>\n",
       "      <td>111111113</td>\n",
       "      <td>Mac Charger</td>\n",
       "      <td>Laptop Charger</td>\n",
       "      <td>SIS</td>\n",
       "      <td>SIS project way</td>\n",
       "      <td>photo3</td>\n",
       "      <td>111111113.0</td>\n",
       "      <td>3</td>\n",
       "      <td>retrieved</td>\n",
       "      <td>Fri, 05 Apr 2019 07:22:28 GMT</td>\n",
       "    </tr>\n",
       "    <tr>\n",
       "      <th>3</th>\n",
       "      <td>SIS</td>\n",
       "      <td>SIS project way</td>\n",
       "      <td>111111114</td>\n",
       "      <td>Mac Charger</td>\n",
       "      <td>Laptop Charger</td>\n",
       "      <td>SIS</td>\n",
       "      <td>SIS project way</td>\n",
       "      <td>photo3</td>\n",
       "      <td>111111114.0</td>\n",
       "      <td>4</td>\n",
       "      <td>retrieved</td>\n",
       "      <td>Fri, 05 Apr 2019 07:23:36 GMT</td>\n",
       "    </tr>\n",
       "    <tr>\n",
       "      <th>4</th>\n",
       "      <td>SIS</td>\n",
       "      <td>SIS project way</td>\n",
       "      <td>111111115</td>\n",
       "      <td>Acer Charger</td>\n",
       "      <td>Laptop Charger</td>\n",
       "      <td>SIS</td>\n",
       "      <td>SIS project way</td>\n",
       "      <td>photo3</td>\n",
       "      <td>111111115.0</td>\n",
       "      <td>5</td>\n",
       "      <td>retrieved</td>\n",
       "      <td>Fri, 05 Apr 2019 07:23:41 GMT</td>\n",
       "    </tr>\n",
       "    <tr>\n",
       "      <th>5</th>\n",
       "      <td>SIS</td>\n",
       "      <td>SIS project way</td>\n",
       "      <td>111111116</td>\n",
       "      <td>HP Charger</td>\n",
       "      <td>Laptop Charger</td>\n",
       "      <td>SIS</td>\n",
       "      <td>SIS project way</td>\n",
       "      <td>photo3</td>\n",
       "      <td>111111116.0</td>\n",
       "      <td>6</td>\n",
       "      <td>retrieved</td>\n",
       "      <td>Fri, 05 Apr 2019 07:23:44 GMT</td>\n",
       "    </tr>\n",
       "    <tr>\n",
       "      <th>6</th>\n",
       "      <td>SIS</td>\n",
       "      <td>SIS project way</td>\n",
       "      <td>111111117</td>\n",
       "      <td>Asus Charger</td>\n",
       "      <td>Laptop Charger</td>\n",
       "      <td>SIS</td>\n",
       "      <td>SIS project way</td>\n",
       "      <td>photo3</td>\n",
       "      <td>111111117.0</td>\n",
       "      <td>7</td>\n",
       "      <td>retrieved</td>\n",
       "      <td>Fri, 05 Apr 2019 07:23:49 GMT</td>\n",
       "    </tr>\n",
       "  </tbody>\n",
       "</table>\n",
       "</div>"
      ],
      "text/plain": [
       "  found_at_building found_at_facilities    founder item_description  \\\n",
       "2               SIS     SIS project way  111111113      Mac Charger   \n",
       "3               SIS     SIS project way  111111114      Mac Charger   \n",
       "4               SIS     SIS project way  111111115     Acer Charger   \n",
       "5               SIS     SIS project way  111111116       HP Charger   \n",
       "6               SIS     SIS project way  111111117     Asus Charger   \n",
       "\n",
       "         itemtype left_at_building left_at_facilities   photo    retriever  \\\n",
       "2  Laptop Charger              SIS    SIS project way  photo3  111111113.0   \n",
       "3  Laptop Charger              SIS    SIS project way  photo3  111111114.0   \n",
       "4  Laptop Charger              SIS    SIS project way  photo3  111111115.0   \n",
       "5  Laptop Charger              SIS    SIS project way  photo3  111111116.0   \n",
       "6  Laptop Charger              SIS    SIS project way  photo3  111111117.0   \n",
       "\n",
       "   rid     status                      timestamp  \n",
       "2    3  retrieved  Fri, 05 Apr 2019 07:22:28 GMT  \n",
       "3    4  retrieved  Fri, 05 Apr 2019 07:23:36 GMT  \n",
       "4    5  retrieved  Fri, 05 Apr 2019 07:23:41 GMT  \n",
       "5    6  retrieved  Fri, 05 Apr 2019 07:23:44 GMT  \n",
       "6    7  retrieved  Fri, 05 Apr 2019 07:23:49 GMT  "
      ]
     },
     "execution_count": 8,
     "metadata": {},
     "output_type": "execute_result"
    }
   ],
   "source": [
    "max_facility_itemtype = df_reports[df_reports['found_at_facilities'].isin(['SIS project way'])]\n",
    "max_facility_itemtype  #need to input more diff itemtype"
   ]
  },
  {
   "cell_type": "markdown",
   "metadata": {},
   "source": [
    "Categorise all item types and extract their total count in abovementioned location (SIS Project Way)."
   ]
  },
  {
   "cell_type": "code",
   "execution_count": 9,
   "metadata": {
    "scrolled": true
   },
   "outputs": [
    {
     "data": {
      "text/html": [
       "<div>\n",
       "<style scoped>\n",
       "    .dataframe tbody tr th:only-of-type {\n",
       "        vertical-align: middle;\n",
       "    }\n",
       "\n",
       "    .dataframe tbody tr th {\n",
       "        vertical-align: top;\n",
       "    }\n",
       "\n",
       "    .dataframe thead th {\n",
       "        text-align: right;\n",
       "    }\n",
       "</style>\n",
       "<table border=\"1\" class=\"dataframe\">\n",
       "  <thead>\n",
       "    <tr style=\"text-align: right;\">\n",
       "      <th></th>\n",
       "      <th>itemtype</th>\n",
       "      <th>max_facility_itemtype_count</th>\n",
       "    </tr>\n",
       "  </thead>\n",
       "  <tbody>\n",
       "    <tr>\n",
       "      <th>0</th>\n",
       "      <td>Laptop Charger</td>\n",
       "      <td>5</td>\n",
       "    </tr>\n",
       "  </tbody>\n",
       "</table>\n",
       "</div>"
      ],
      "text/plain": [
       "         itemtype  max_facility_itemtype_count\n",
       "0  Laptop Charger                            5"
      ]
     },
     "execution_count": 9,
     "metadata": {},
     "output_type": "execute_result"
    }
   ],
   "source": [
    "max_facility_itemtype_count = max_facility_itemtype.groupby('itemtype')\n",
    "max_facility_itemtype_count = max_facility_itemtype_count.size().reset_index(name='max_facility_itemtype_count')\n",
    "max_facility_itemtype_count"
   ]
  },
  {
   "cell_type": "markdown",
   "metadata": {},
   "source": [
    "Finally, plot a `pie chart` to showcase the spread of found and reported items with their proportion in SIS Project Way."
   ]
  },
  {
   "cell_type": "code",
   "execution_count": 10,
   "metadata": {},
   "outputs": [
    {
     "data": {
      "application/vnd.plotly.v1+json": {
       "config": {
        "linkText": "Export to plot.ly",
        "plotlyServerURL": "https://plot.ly",
        "showLink": false
       },
       "data": [
        {
         "labels": [
          "Laptop Charger"
         ],
         "type": "pie",
         "uid": "e1dcf275-b07c-4d43-bbe0-6a68d97f014c",
         "values": [
          5
         ]
        }
       ],
       "layout": {
        "title": {
         "text": "Most common item type found in abovementioned location"
        }
       }
      },
      "text/html": [
       "<div id=\"51be6ea5-dd5e-4581-a157-7474c10cf1f0\" style=\"height: 525px; width: 100%;\" class=\"plotly-graph-div\"></div><script type=\"text/javascript\">require([\"plotly\"], function(Plotly) { window.PLOTLYENV=window.PLOTLYENV || {};window.PLOTLYENV.BASE_URL=\"https://plot.ly\";\n",
       "if (document.getElementById(\"51be6ea5-dd5e-4581-a157-7474c10cf1f0\")) {\n",
       "    Plotly.newPlot(\"51be6ea5-dd5e-4581-a157-7474c10cf1f0\", [{\"labels\": [\"Laptop Charger\"], \"values\": [5], \"type\": \"pie\", \"uid\": \"e1dcf275-b07c-4d43-bbe0-6a68d97f014c\"}], {\"title\": {\"text\": \"Most common item type found in abovementioned location\"}}, {\"showLink\": false, \"linkText\": \"Export to plot.ly\", \"plotlyServerURL\": \"https://plot.ly\"}); \n",
       "}\n",
       "});</script><script type=\"text/javascript\">window.addEventListener(\"resize\", function(){if (document.getElementById(\"51be6ea5-dd5e-4581-a157-7474c10cf1f0\")) {window._Plotly.Plots.resize(document.getElementById(\"51be6ea5-dd5e-4581-a157-7474c10cf1f0\"));};})</script>"
      ],
      "text/vnd.plotly.v1+html": [
       "<div id=\"51be6ea5-dd5e-4581-a157-7474c10cf1f0\" style=\"height: 525px; width: 100%;\" class=\"plotly-graph-div\"></div><script type=\"text/javascript\">require([\"plotly\"], function(Plotly) { window.PLOTLYENV=window.PLOTLYENV || {};window.PLOTLYENV.BASE_URL=\"https://plot.ly\";\n",
       "if (document.getElementById(\"51be6ea5-dd5e-4581-a157-7474c10cf1f0\")) {\n",
       "    Plotly.newPlot(\"51be6ea5-dd5e-4581-a157-7474c10cf1f0\", [{\"labels\": [\"Laptop Charger\"], \"values\": [5], \"type\": \"pie\", \"uid\": \"e1dcf275-b07c-4d43-bbe0-6a68d97f014c\"}], {\"title\": {\"text\": \"Most common item type found in abovementioned location\"}}, {\"showLink\": false, \"linkText\": \"Export to plot.ly\", \"plotlyServerURL\": \"https://plot.ly\"}); \n",
       "}\n",
       "});</script><script type=\"text/javascript\">window.addEventListener(\"resize\", function(){if (document.getElementById(\"51be6ea5-dd5e-4581-a157-7474c10cf1f0\")) {window._Plotly.Plots.resize(document.getElementById(\"51be6ea5-dd5e-4581-a157-7474c10cf1f0\"));};})</script>"
      ]
     },
     "metadata": {},
     "output_type": "display_data"
    }
   ],
   "source": [
    "trace1 = go.Pie(labels=max_facility_itemtype_count['itemtype'], values=max_facility_itemtype_count['max_facility_itemtype_count'])\n",
    "\n",
    "layout = go.Layout(title='Most common item type found in abovementioned location') \n",
    "\n",
    "fig = go.Figure(data=[trace1], layout=layout)\n",
    "iplot(fig)\n"
   ]
  },
  {
   "cell_type": "markdown",
   "metadata": {},
   "source": [
    "From the `pie chart`, we notice that **Laptop Charger** is the item type that is most commonly found and reported in SIS Project Way.\n",
    "<hr>"
   ]
  },
  {
   "cell_type": "markdown",
   "metadata": {},
   "source": [
    "## 2. Most commonly lost item type in SIS\n",
    "\n",
    "Let's now take a look at all the item types discovered found and reported in SIS."
   ]
  },
  {
   "cell_type": "markdown",
   "metadata": {},
   "source": [
    "Categorise all item types and extract their total count in SIS."
   ]
  },
  {
   "cell_type": "code",
   "execution_count": 11,
   "metadata": {
    "scrolled": true
   },
   "outputs": [
    {
     "data": {
      "text/html": [
       "<div>\n",
       "<style scoped>\n",
       "    .dataframe tbody tr th:only-of-type {\n",
       "        vertical-align: middle;\n",
       "    }\n",
       "\n",
       "    .dataframe tbody tr th {\n",
       "        vertical-align: top;\n",
       "    }\n",
       "\n",
       "    .dataframe thead th {\n",
       "        text-align: right;\n",
       "    }\n",
       "</style>\n",
       "<table border=\"1\" class=\"dataframe\">\n",
       "  <thead>\n",
       "    <tr style=\"text-align: right;\">\n",
       "      <th></th>\n",
       "      <th>itemtype</th>\n",
       "      <th>count_itemtype</th>\n",
       "    </tr>\n",
       "  </thead>\n",
       "  <tbody>\n",
       "    <tr>\n",
       "      <th>0</th>\n",
       "      <td>Laptop Charger</td>\n",
       "      <td>5</td>\n",
       "    </tr>\n",
       "    <tr>\n",
       "      <th>1</th>\n",
       "      <td>Matriculation Card</td>\n",
       "      <td>4</td>\n",
       "    </tr>\n",
       "    <tr>\n",
       "      <th>2</th>\n",
       "      <td>Others</td>\n",
       "      <td>1</td>\n",
       "    </tr>\n",
       "    <tr>\n",
       "      <th>3</th>\n",
       "      <td>Wallet</td>\n",
       "      <td>3</td>\n",
       "    </tr>\n",
       "    <tr>\n",
       "      <th>4</th>\n",
       "      <td>Water Bottle</td>\n",
       "      <td>1</td>\n",
       "    </tr>\n",
       "  </tbody>\n",
       "</table>\n",
       "</div>"
      ],
      "text/plain": [
       "             itemtype  count_itemtype\n",
       "0      Laptop Charger               5\n",
       "1  Matriculation Card               4\n",
       "2              Others               1\n",
       "3              Wallet               3\n",
       "4        Water Bottle               1"
      ]
     },
     "execution_count": 11,
     "metadata": {},
     "output_type": "execute_result"
    }
   ],
   "source": [
    "count_itemtype = df_reports.groupby('itemtype')\n",
    "count_itemtype1 = count_itemtype.size().reset_index(name='count_itemtype')\n",
    "# count_locations1 = go.Bar(x=df_reports['found_at_facilities'], y = name='df_reports')\n",
    "# data = [trace_females]\n",
    "# iplot(data)\n",
    "count_itemtype1"
   ]
  },
  {
   "cell_type": "markdown",
   "metadata": {},
   "source": [
    "Plot a `pie chart` to showcase the spread of found and reported items with their proportion in SIS."
   ]
  },
  {
   "cell_type": "code",
   "execution_count": 12,
   "metadata": {},
   "outputs": [
    {
     "data": {
      "application/vnd.plotly.v1+json": {
       "config": {
        "linkText": "Export to plot.ly",
        "plotlyServerURL": "https://plot.ly",
        "showLink": false
       },
       "data": [
        {
         "labels": [
          "Laptop Charger",
          "Matriculation Card",
          "Others",
          "Wallet",
          "Water Bottle"
         ],
         "type": "pie",
         "uid": "5ca87a20-b78c-440c-9323-2e82a9cf478a",
         "values": [
          5,
          4,
          1,
          3,
          1
         ]
        }
       ],
       "layout": {
        "title": {
         "text": "Most commonly lost item type in SIS"
        }
       }
      },
      "text/html": [
       "<div id=\"b9f91a95-756f-4d3a-9d59-220b0800ea74\" style=\"height: 525px; width: 100%;\" class=\"plotly-graph-div\"></div><script type=\"text/javascript\">require([\"plotly\"], function(Plotly) { window.PLOTLYENV=window.PLOTLYENV || {};window.PLOTLYENV.BASE_URL=\"https://plot.ly\";\n",
       "if (document.getElementById(\"b9f91a95-756f-4d3a-9d59-220b0800ea74\")) {\n",
       "    Plotly.newPlot(\"b9f91a95-756f-4d3a-9d59-220b0800ea74\", [{\"labels\": [\"Laptop Charger\", \"Matriculation Card\", \"Others\", \"Wallet\", \"Water Bottle\"], \"values\": [5, 4, 1, 3, 1], \"type\": \"pie\", \"uid\": \"5ca87a20-b78c-440c-9323-2e82a9cf478a\"}], {\"title\": {\"text\": \"Most commonly lost item type in SIS\"}}, {\"showLink\": false, \"linkText\": \"Export to plot.ly\", \"plotlyServerURL\": \"https://plot.ly\"}); \n",
       "}\n",
       "});</script><script type=\"text/javascript\">window.addEventListener(\"resize\", function(){if (document.getElementById(\"b9f91a95-756f-4d3a-9d59-220b0800ea74\")) {window._Plotly.Plots.resize(document.getElementById(\"b9f91a95-756f-4d3a-9d59-220b0800ea74\"));};})</script>"
      ],
      "text/vnd.plotly.v1+html": [
       "<div id=\"b9f91a95-756f-4d3a-9d59-220b0800ea74\" style=\"height: 525px; width: 100%;\" class=\"plotly-graph-div\"></div><script type=\"text/javascript\">require([\"plotly\"], function(Plotly) { window.PLOTLYENV=window.PLOTLYENV || {};window.PLOTLYENV.BASE_URL=\"https://plot.ly\";\n",
       "if (document.getElementById(\"b9f91a95-756f-4d3a-9d59-220b0800ea74\")) {\n",
       "    Plotly.newPlot(\"b9f91a95-756f-4d3a-9d59-220b0800ea74\", [{\"labels\": [\"Laptop Charger\", \"Matriculation Card\", \"Others\", \"Wallet\", \"Water Bottle\"], \"values\": [5, 4, 1, 3, 1], \"type\": \"pie\", \"uid\": \"5ca87a20-b78c-440c-9323-2e82a9cf478a\"}], {\"title\": {\"text\": \"Most commonly lost item type in SIS\"}}, {\"showLink\": false, \"linkText\": \"Export to plot.ly\", \"plotlyServerURL\": \"https://plot.ly\"}); \n",
       "}\n",
       "});</script><script type=\"text/javascript\">window.addEventListener(\"resize\", function(){if (document.getElementById(\"b9f91a95-756f-4d3a-9d59-220b0800ea74\")) {window._Plotly.Plots.resize(document.getElementById(\"b9f91a95-756f-4d3a-9d59-220b0800ea74\"));};})</script>"
      ]
     },
     "metadata": {},
     "output_type": "display_data"
    }
   ],
   "source": [
    "trace2 = go.Pie(labels=count_itemtype1['itemtype'], values=count_itemtype1['count_itemtype'])\n",
    "layout = go.Layout(title='Most commonly lost item type in SIS') \n",
    "\n",
    "fig = go.Figure(data=[trace2], layout=layout)\n",
    "iplot(fig)"
   ]
  },
  {
   "cell_type": "code",
   "execution_count": 13,
   "metadata": {
    "scrolled": true
   },
   "outputs": [
    {
     "data": {
      "application/vnd.plotly.v1+json": {
       "config": {
        "linkText": "Export to plot.ly",
        "plotlyServerURL": "https://plot.ly",
        "showLink": false
       },
       "data": [
        {
         "name": "count_itemtype1",
         "type": "bar",
         "uid": "e565dd6c-5290-4d0f-b526-4fa76702ce0d",
         "x": [
          "Laptop Charger",
          "Matriculation Card",
          "Others",
          "Wallet",
          "Water Bottle"
         ],
         "y": [
          5,
          4,
          1,
          3,
          1
         ]
        }
       ],
       "layout": {
        "legend": {
         "x": 1,
         "y": 1
        },
        "showlegend": true,
        "title": {
         "text": "Most commonly lost item type in SIS"
        },
        "xaxis": {
         "title": {
          "text": "Item Types"
         }
        },
        "yaxis": {
         "title": {
          "text": "No. of items reported found"
         }
        }
       }
      },
      "text/html": [
       "<div id=\"7ef86fb2-79f8-4ae2-a4b5-3d4ed610ecd6\" style=\"height: 525px; width: 100%;\" class=\"plotly-graph-div\"></div><script type=\"text/javascript\">require([\"plotly\"], function(Plotly) { window.PLOTLYENV=window.PLOTLYENV || {};window.PLOTLYENV.BASE_URL=\"https://plot.ly\";\n",
       "if (document.getElementById(\"7ef86fb2-79f8-4ae2-a4b5-3d4ed610ecd6\")) {\n",
       "    Plotly.newPlot(\"7ef86fb2-79f8-4ae2-a4b5-3d4ed610ecd6\", [{\"name\": \"count_itemtype1\", \"x\": [\"Laptop Charger\", \"Matriculation Card\", \"Others\", \"Wallet\", \"Water Bottle\"], \"y\": [5, 4, 1, 3, 1], \"type\": \"bar\", \"uid\": \"e565dd6c-5290-4d0f-b526-4fa76702ce0d\"}], {\"legend\": {\"x\": 1, \"y\": 1}, \"showlegend\": true, \"title\": {\"text\": \"Most commonly lost item type in SIS\"}, \"xaxis\": {\"title\": {\"text\": \"Item Types\"}}, \"yaxis\": {\"title\": {\"text\": \"No. of items reported found\"}}}, {\"showLink\": false, \"linkText\": \"Export to plot.ly\", \"plotlyServerURL\": \"https://plot.ly\"}); \n",
       "}\n",
       "});</script><script type=\"text/javascript\">window.addEventListener(\"resize\", function(){if (document.getElementById(\"7ef86fb2-79f8-4ae2-a4b5-3d4ed610ecd6\")) {window._Plotly.Plots.resize(document.getElementById(\"7ef86fb2-79f8-4ae2-a4b5-3d4ed610ecd6\"));};})</script>"
      ],
      "text/vnd.plotly.v1+html": [
       "<div id=\"7ef86fb2-79f8-4ae2-a4b5-3d4ed610ecd6\" style=\"height: 525px; width: 100%;\" class=\"plotly-graph-div\"></div><script type=\"text/javascript\">require([\"plotly\"], function(Plotly) { window.PLOTLYENV=window.PLOTLYENV || {};window.PLOTLYENV.BASE_URL=\"https://plot.ly\";\n",
       "if (document.getElementById(\"7ef86fb2-79f8-4ae2-a4b5-3d4ed610ecd6\")) {\n",
       "    Plotly.newPlot(\"7ef86fb2-79f8-4ae2-a4b5-3d4ed610ecd6\", [{\"name\": \"count_itemtype1\", \"x\": [\"Laptop Charger\", \"Matriculation Card\", \"Others\", \"Wallet\", \"Water Bottle\"], \"y\": [5, 4, 1, 3, 1], \"type\": \"bar\", \"uid\": \"e565dd6c-5290-4d0f-b526-4fa76702ce0d\"}], {\"legend\": {\"x\": 1, \"y\": 1}, \"showlegend\": true, \"title\": {\"text\": \"Most commonly lost item type in SIS\"}, \"xaxis\": {\"title\": {\"text\": \"Item Types\"}}, \"yaxis\": {\"title\": {\"text\": \"No. of items reported found\"}}}, {\"showLink\": false, \"linkText\": \"Export to plot.ly\", \"plotlyServerURL\": \"https://plot.ly\"}); \n",
       "}\n",
       "});</script><script type=\"text/javascript\">window.addEventListener(\"resize\", function(){if (document.getElementById(\"7ef86fb2-79f8-4ae2-a4b5-3d4ed610ecd6\")) {window._Plotly.Plots.resize(document.getElementById(\"7ef86fb2-79f8-4ae2-a4b5-3d4ed610ecd6\"));};})</script>"
      ]
     },
     "metadata": {},
     "output_type": "display_data"
    }
   ],
   "source": [
    "results1 = go.Bar(x=count_itemtype1['itemtype'], y=count_itemtype1['count_itemtype'], name='count_itemtype1')\n",
    "data = [results1]\n",
    "layout = go.Layout(title='Most commonly lost item type in SIS', \n",
    "                   xaxis={'title':'Item Types'}, \n",
    "                   yaxis={'title':'No. of items reported found'}, showlegend=True, legend=dict(x=1, y=1)) \n",
    "\n",
    "fig = go.Figure(data=data, layout=layout)\n",
    "iplot(fig)\n"
   ]
  },
  {
   "cell_type": "markdown",
   "metadata": {},
   "source": [
    "For this test case, it is easy to identify **Laptop Charger** as being the item type with the highest number of found reported. However, in a real life deployment, the differences may not be as stark.\n",
    "\n",
    "We will hence conduct a thorough analysis to extract a more accurate information of the item type with the highest number of found reports."
   ]
  },
  {
   "cell_type": "code",
   "execution_count": 14,
   "metadata": {},
   "outputs": [
    {
     "data": {
      "text/plain": [
       "itemtype          Laptop Charger\n",
       "count_itemtype                 5\n",
       "Name: 0, dtype: object"
      ]
     },
     "execution_count": 14,
     "metadata": {},
     "output_type": "execute_result"
    }
   ],
   "source": [
    "max_itemtype = count_itemtype1.loc[count_itemtype1['count_itemtype'].idxmax()]\n",
    "max_itemtype"
   ]
  },
  {
   "cell_type": "markdown",
   "metadata": {},
   "source": [
    "From the `pie chart`, `bar graph` and our above analsis, we confirm that **Laptop Charger** is the item type with the highest number of found reported.\n",
    "\n",
    "<hr>"
   ]
  },
  {
   "cell_type": "markdown",
   "metadata": {},
   "source": [
    "## 2.1 Facility where the most commonly lost item is most found\n",
    "\n",
    "Where can we usually find Laptop Chargers left behind? We are now interested in finding out which facility in SIS where Laptop Chargers are most commonly left behind."
   ]
  },
  {
   "cell_type": "markdown",
   "metadata": {},
   "source": [
    "Filter out all found reports for the abovementioned item type (Laptop Charger)."
   ]
  },
  {
   "cell_type": "code",
   "execution_count": 15,
   "metadata": {
    "scrolled": true
   },
   "outputs": [
    {
     "data": {
      "text/html": [
       "<div>\n",
       "<style scoped>\n",
       "    .dataframe tbody tr th:only-of-type {\n",
       "        vertical-align: middle;\n",
       "    }\n",
       "\n",
       "    .dataframe tbody tr th {\n",
       "        vertical-align: top;\n",
       "    }\n",
       "\n",
       "    .dataframe thead th {\n",
       "        text-align: right;\n",
       "    }\n",
       "</style>\n",
       "<table border=\"1\" class=\"dataframe\">\n",
       "  <thead>\n",
       "    <tr style=\"text-align: right;\">\n",
       "      <th></th>\n",
       "      <th>found_at_building</th>\n",
       "      <th>found_at_facilities</th>\n",
       "      <th>founder</th>\n",
       "      <th>item_description</th>\n",
       "      <th>itemtype</th>\n",
       "      <th>left_at_building</th>\n",
       "      <th>left_at_facilities</th>\n",
       "      <th>photo</th>\n",
       "      <th>retriever</th>\n",
       "      <th>rid</th>\n",
       "      <th>status</th>\n",
       "      <th>timestamp</th>\n",
       "    </tr>\n",
       "  </thead>\n",
       "  <tbody>\n",
       "    <tr>\n",
       "      <th>2</th>\n",
       "      <td>SIS</td>\n",
       "      <td>SIS project way</td>\n",
       "      <td>111111113</td>\n",
       "      <td>Mac Charger</td>\n",
       "      <td>Laptop Charger</td>\n",
       "      <td>SIS</td>\n",
       "      <td>SIS project way</td>\n",
       "      <td>photo3</td>\n",
       "      <td>111111113.0</td>\n",
       "      <td>3</td>\n",
       "      <td>retrieved</td>\n",
       "      <td>Fri, 05 Apr 2019 07:22:28 GMT</td>\n",
       "    </tr>\n",
       "    <tr>\n",
       "      <th>3</th>\n",
       "      <td>SIS</td>\n",
       "      <td>SIS project way</td>\n",
       "      <td>111111114</td>\n",
       "      <td>Mac Charger</td>\n",
       "      <td>Laptop Charger</td>\n",
       "      <td>SIS</td>\n",
       "      <td>SIS project way</td>\n",
       "      <td>photo3</td>\n",
       "      <td>111111114.0</td>\n",
       "      <td>4</td>\n",
       "      <td>retrieved</td>\n",
       "      <td>Fri, 05 Apr 2019 07:23:36 GMT</td>\n",
       "    </tr>\n",
       "    <tr>\n",
       "      <th>4</th>\n",
       "      <td>SIS</td>\n",
       "      <td>SIS project way</td>\n",
       "      <td>111111115</td>\n",
       "      <td>Acer Charger</td>\n",
       "      <td>Laptop Charger</td>\n",
       "      <td>SIS</td>\n",
       "      <td>SIS project way</td>\n",
       "      <td>photo3</td>\n",
       "      <td>111111115.0</td>\n",
       "      <td>5</td>\n",
       "      <td>retrieved</td>\n",
       "      <td>Fri, 05 Apr 2019 07:23:41 GMT</td>\n",
       "    </tr>\n",
       "    <tr>\n",
       "      <th>5</th>\n",
       "      <td>SIS</td>\n",
       "      <td>SIS project way</td>\n",
       "      <td>111111116</td>\n",
       "      <td>HP Charger</td>\n",
       "      <td>Laptop Charger</td>\n",
       "      <td>SIS</td>\n",
       "      <td>SIS project way</td>\n",
       "      <td>photo3</td>\n",
       "      <td>111111116.0</td>\n",
       "      <td>6</td>\n",
       "      <td>retrieved</td>\n",
       "      <td>Fri, 05 Apr 2019 07:23:44 GMT</td>\n",
       "    </tr>\n",
       "    <tr>\n",
       "      <th>6</th>\n",
       "      <td>SIS</td>\n",
       "      <td>SIS project way</td>\n",
       "      <td>111111117</td>\n",
       "      <td>Asus Charger</td>\n",
       "      <td>Laptop Charger</td>\n",
       "      <td>SIS</td>\n",
       "      <td>SIS project way</td>\n",
       "      <td>photo3</td>\n",
       "      <td>111111117.0</td>\n",
       "      <td>7</td>\n",
       "      <td>retrieved</td>\n",
       "      <td>Fri, 05 Apr 2019 07:23:49 GMT</td>\n",
       "    </tr>\n",
       "  </tbody>\n",
       "</table>\n",
       "</div>"
      ],
      "text/plain": [
       "  found_at_building found_at_facilities    founder item_description  \\\n",
       "2               SIS     SIS project way  111111113      Mac Charger   \n",
       "3               SIS     SIS project way  111111114      Mac Charger   \n",
       "4               SIS     SIS project way  111111115     Acer Charger   \n",
       "5               SIS     SIS project way  111111116       HP Charger   \n",
       "6               SIS     SIS project way  111111117     Asus Charger   \n",
       "\n",
       "         itemtype left_at_building left_at_facilities   photo    retriever  \\\n",
       "2  Laptop Charger              SIS    SIS project way  photo3  111111113.0   \n",
       "3  Laptop Charger              SIS    SIS project way  photo3  111111114.0   \n",
       "4  Laptop Charger              SIS    SIS project way  photo3  111111115.0   \n",
       "5  Laptop Charger              SIS    SIS project way  photo3  111111116.0   \n",
       "6  Laptop Charger              SIS    SIS project way  photo3  111111117.0   \n",
       "\n",
       "   rid     status                      timestamp  \n",
       "2    3  retrieved  Fri, 05 Apr 2019 07:22:28 GMT  \n",
       "3    4  retrieved  Fri, 05 Apr 2019 07:23:36 GMT  \n",
       "4    5  retrieved  Fri, 05 Apr 2019 07:23:41 GMT  \n",
       "5    6  retrieved  Fri, 05 Apr 2019 07:23:44 GMT  \n",
       "6    7  retrieved  Fri, 05 Apr 2019 07:23:49 GMT  "
      ]
     },
     "execution_count": 15,
     "metadata": {},
     "output_type": "execute_result"
    }
   ],
   "source": [
    "max_itemtype1 = df_reports[df_reports['itemtype'].isin(['Laptop Charger'])]\n",
    "max_itemtype1"
   ]
  },
  {
   "cell_type": "markdown",
   "metadata": {},
   "source": [
    "Categorise all facilities and extract their total count for abovementioned item type (Laptop Charger)."
   ]
  },
  {
   "cell_type": "code",
   "execution_count": 16,
   "metadata": {},
   "outputs": [
    {
     "data": {
      "text/html": [
       "<div>\n",
       "<style scoped>\n",
       "    .dataframe tbody tr th:only-of-type {\n",
       "        vertical-align: middle;\n",
       "    }\n",
       "\n",
       "    .dataframe tbody tr th {\n",
       "        vertical-align: top;\n",
       "    }\n",
       "\n",
       "    .dataframe thead th {\n",
       "        text-align: right;\n",
       "    }\n",
       "</style>\n",
       "<table border=\"1\" class=\"dataframe\">\n",
       "  <thead>\n",
       "    <tr style=\"text-align: right;\">\n",
       "      <th></th>\n",
       "      <th>found_at_facilities</th>\n",
       "      <th>count_max_itemtype_facilities</th>\n",
       "    </tr>\n",
       "  </thead>\n",
       "  <tbody>\n",
       "    <tr>\n",
       "      <th>0</th>\n",
       "      <td>SIS project way</td>\n",
       "      <td>5</td>\n",
       "    </tr>\n",
       "  </tbody>\n",
       "</table>\n",
       "</div>"
      ],
      "text/plain": [
       "  found_at_facilities  count_max_itemtype_facilities\n",
       "0     SIS project way                              5"
      ]
     },
     "execution_count": 16,
     "metadata": {},
     "output_type": "execute_result"
    }
   ],
   "source": [
    "count_max_itemtype1 = max_itemtype1.groupby('found_at_facilities')\n",
    "count_max_itemtype_facilities = count_max_itemtype1.size().reset_index(name='count_max_itemtype_facilities')\n",
    "\n",
    "count_max_itemtype_facilities\n"
   ]
  },
  {
   "cell_type": "markdown",
   "metadata": {},
   "source": [
    "Finally, plot a `pie chart` and `bar graph` to showcase the spread of facilities where abovementioned item type (Laptop Charger) is found at."
   ]
  },
  {
   "cell_type": "code",
   "execution_count": 17,
   "metadata": {},
   "outputs": [
    {
     "data": {
      "application/vnd.plotly.v1+json": {
       "config": {
        "linkText": "Export to plot.ly",
        "plotlyServerURL": "https://plot.ly",
        "showLink": false
       },
       "data": [
        {
         "labels": [
          "SIS project way"
         ],
         "type": "pie",
         "uid": "2da34af0-080e-4ac4-ad99-5aa56e46afb4",
         "values": [
          5
         ]
        }
       ],
       "layout": {
        "title": {
         "text": "Facility where the most commonly lost item is most found"
        }
       }
      },
      "text/html": [
       "<div id=\"27eb036b-a2b0-488b-aeb8-62e367ec6d16\" style=\"height: 525px; width: 100%;\" class=\"plotly-graph-div\"></div><script type=\"text/javascript\">require([\"plotly\"], function(Plotly) { window.PLOTLYENV=window.PLOTLYENV || {};window.PLOTLYENV.BASE_URL=\"https://plot.ly\";\n",
       "if (document.getElementById(\"27eb036b-a2b0-488b-aeb8-62e367ec6d16\")) {\n",
       "    Plotly.newPlot(\"27eb036b-a2b0-488b-aeb8-62e367ec6d16\", [{\"labels\": [\"SIS project way\"], \"values\": [5], \"type\": \"pie\", \"uid\": \"2da34af0-080e-4ac4-ad99-5aa56e46afb4\"}], {\"title\": {\"text\": \"Facility where the most commonly lost item is most found\"}}, {\"showLink\": false, \"linkText\": \"Export to plot.ly\", \"plotlyServerURL\": \"https://plot.ly\"}); \n",
       "}\n",
       "});</script><script type=\"text/javascript\">window.addEventListener(\"resize\", function(){if (document.getElementById(\"27eb036b-a2b0-488b-aeb8-62e367ec6d16\")) {window._Plotly.Plots.resize(document.getElementById(\"27eb036b-a2b0-488b-aeb8-62e367ec6d16\"));};})</script>"
      ],
      "text/vnd.plotly.v1+html": [
       "<div id=\"27eb036b-a2b0-488b-aeb8-62e367ec6d16\" style=\"height: 525px; width: 100%;\" class=\"plotly-graph-div\"></div><script type=\"text/javascript\">require([\"plotly\"], function(Plotly) { window.PLOTLYENV=window.PLOTLYENV || {};window.PLOTLYENV.BASE_URL=\"https://plot.ly\";\n",
       "if (document.getElementById(\"27eb036b-a2b0-488b-aeb8-62e367ec6d16\")) {\n",
       "    Plotly.newPlot(\"27eb036b-a2b0-488b-aeb8-62e367ec6d16\", [{\"labels\": [\"SIS project way\"], \"values\": [5], \"type\": \"pie\", \"uid\": \"2da34af0-080e-4ac4-ad99-5aa56e46afb4\"}], {\"title\": {\"text\": \"Facility where the most commonly lost item is most found\"}}, {\"showLink\": false, \"linkText\": \"Export to plot.ly\", \"plotlyServerURL\": \"https://plot.ly\"}); \n",
       "}\n",
       "});</script><script type=\"text/javascript\">window.addEventListener(\"resize\", function(){if (document.getElementById(\"27eb036b-a2b0-488b-aeb8-62e367ec6d16\")) {window._Plotly.Plots.resize(document.getElementById(\"27eb036b-a2b0-488b-aeb8-62e367ec6d16\"));};})</script>"
      ]
     },
     "metadata": {},
     "output_type": "display_data"
    }
   ],
   "source": [
    "trace4 = go.Pie(labels=count_max_itemtype_facilities['found_at_facilities'], values=count_max_itemtype_facilities['count_max_itemtype_facilities'])\n",
    "layout = go.Layout(title='Facility where the most commonly lost item is most found') \n",
    "\n",
    "fig = go.Figure(data=[trace4], layout=layout)\n",
    "iplot(fig)"
   ]
  },
  {
   "cell_type": "code",
   "execution_count": 18,
   "metadata": {
    "scrolled": true
   },
   "outputs": [
    {
     "data": {
      "application/vnd.plotly.v1+json": {
       "config": {
        "linkText": "Export to plot.ly",
        "plotlyServerURL": "https://plot.ly",
        "showLink": false
       },
       "data": [
        {
         "name": "count_max_itemtype_facilities",
         "type": "bar",
         "uid": "ea2b22ac-5d4a-43b3-8e15-a29372b6bcab",
         "x": [
          "SIS project way"
         ],
         "y": [
          5
         ]
        }
       ],
       "layout": {
        "legend": {
         "x": 1,
         "y": 1
        },
        "showlegend": true,
        "title": {
         "text": "Facility where the most commonly lost item is most found"
        },
        "xaxis": {
         "title": {
          "text": "Locations"
         }
        },
        "yaxis": {
         "title": {
          "text": "No. of items reported found"
         }
        }
       }
      },
      "text/html": [
       "<div id=\"a3b82f10-89aa-42f0-8f1b-b1bd2cf0fab7\" style=\"height: 525px; width: 100%;\" class=\"plotly-graph-div\"></div><script type=\"text/javascript\">require([\"plotly\"], function(Plotly) { window.PLOTLYENV=window.PLOTLYENV || {};window.PLOTLYENV.BASE_URL=\"https://plot.ly\";\n",
       "if (document.getElementById(\"a3b82f10-89aa-42f0-8f1b-b1bd2cf0fab7\")) {\n",
       "    Plotly.newPlot(\"a3b82f10-89aa-42f0-8f1b-b1bd2cf0fab7\", [{\"name\": \"count_max_itemtype_facilities\", \"x\": [\"SIS project way\"], \"y\": [5], \"type\": \"bar\", \"uid\": \"ea2b22ac-5d4a-43b3-8e15-a29372b6bcab\"}], {\"legend\": {\"x\": 1, \"y\": 1}, \"showlegend\": true, \"title\": {\"text\": \"Facility where the most commonly lost item is most found\"}, \"xaxis\": {\"title\": {\"text\": \"Locations\"}}, \"yaxis\": {\"title\": {\"text\": \"No. of items reported found\"}}}, {\"showLink\": false, \"linkText\": \"Export to plot.ly\", \"plotlyServerURL\": \"https://plot.ly\"}); \n",
       "}\n",
       "});</script><script type=\"text/javascript\">window.addEventListener(\"resize\", function(){if (document.getElementById(\"a3b82f10-89aa-42f0-8f1b-b1bd2cf0fab7\")) {window._Plotly.Plots.resize(document.getElementById(\"a3b82f10-89aa-42f0-8f1b-b1bd2cf0fab7\"));};})</script>"
      ],
      "text/vnd.plotly.v1+html": [
       "<div id=\"a3b82f10-89aa-42f0-8f1b-b1bd2cf0fab7\" style=\"height: 525px; width: 100%;\" class=\"plotly-graph-div\"></div><script type=\"text/javascript\">require([\"plotly\"], function(Plotly) { window.PLOTLYENV=window.PLOTLYENV || {};window.PLOTLYENV.BASE_URL=\"https://plot.ly\";\n",
       "if (document.getElementById(\"a3b82f10-89aa-42f0-8f1b-b1bd2cf0fab7\")) {\n",
       "    Plotly.newPlot(\"a3b82f10-89aa-42f0-8f1b-b1bd2cf0fab7\", [{\"name\": \"count_max_itemtype_facilities\", \"x\": [\"SIS project way\"], \"y\": [5], \"type\": \"bar\", \"uid\": \"ea2b22ac-5d4a-43b3-8e15-a29372b6bcab\"}], {\"legend\": {\"x\": 1, \"y\": 1}, \"showlegend\": true, \"title\": {\"text\": \"Facility where the most commonly lost item is most found\"}, \"xaxis\": {\"title\": {\"text\": \"Locations\"}}, \"yaxis\": {\"title\": {\"text\": \"No. of items reported found\"}}}, {\"showLink\": false, \"linkText\": \"Export to plot.ly\", \"plotlyServerURL\": \"https://plot.ly\"}); \n",
       "}\n",
       "});</script><script type=\"text/javascript\">window.addEventListener(\"resize\", function(){if (document.getElementById(\"a3b82f10-89aa-42f0-8f1b-b1bd2cf0fab7\")) {window._Plotly.Plots.resize(document.getElementById(\"a3b82f10-89aa-42f0-8f1b-b1bd2cf0fab7\"));};})</script>"
      ]
     },
     "metadata": {},
     "output_type": "display_data"
    }
   ],
   "source": [
    "results3 = go.Bar(x=count_max_itemtype_facilities['found_at_facilities'], y=count_max_itemtype_facilities['count_max_itemtype_facilities'], name='count_max_itemtype_facilities')\n",
    "data = [results3]\n",
    "layout = go.Layout(title='Facility where the most commonly lost item is most found', \n",
    "                   xaxis={'title':'Locations'}, \n",
    "                   yaxis={'title':'No. of items reported found'}, showlegend=True, legend=dict(x=1, y=1)) \n",
    "\n",
    "fig = go.Figure(data=data, layout=layout)\n",
    "iplot(fig)\n",
    "# need to input more facilities for there to be more bars since currently all chargers are lost at SIS pway\n"
   ]
  },
  {
   "cell_type": "markdown",
   "metadata": {},
   "source": [
    "For this test case, it is easy to identify Laptop Charger as being the item type with the highest number of found reported. However, in a real life deployment, the differences may not be as stark.\n",
    "\n",
    "We will hence conduct a thorough analysis to extract a more accurate information of the item type with the highest number of found reports."
   ]
  },
  {
   "cell_type": "code",
   "execution_count": 19,
   "metadata": {
    "scrolled": true
   },
   "outputs": [
    {
     "data": {
      "text/plain": [
       "found_at_facilities              SIS project way\n",
       "count_max_itemtype_facilities                  5\n",
       "Name: 0, dtype: object"
      ]
     },
     "execution_count": 19,
     "metadata": {},
     "output_type": "execute_result"
    }
   ],
   "source": [
    "max_itemtype_location = count_max_itemtype_facilities.loc[count_max_itemtype_facilities['count_max_itemtype_facilities'].idxmax()]\n",
    "max_itemtype_location"
   ]
  },
  {
   "cell_type": "markdown",
   "metadata": {},
   "source": [
    "From the `pie chart`, `bar graph` and our above analysis, we confirm that **SIS Project Way** is the facility in SIS where Laptop Chargers are most commonly left behind.\n",
    "\n",
    "<hr>"
   ]
  },
  {
   "cell_type": "markdown",
   "metadata": {},
   "source": [
    "## 3. Status distribution\n",
    "\n",
    "Finally, we want to view the proportion of all found items reported that are\n",
    "1. Available (no news within 2 weeks from found report posted)\n",
    "2. Retrieved (retrieved within 2 weeks from found report posted)\n",
    "3. Expired (after 2 weeks from found report posted)"
   ]
  },
  {
   "cell_type": "markdown",
   "metadata": {},
   "source": [
    "Categorise all statuses and extract their total count in SIS."
   ]
  },
  {
   "cell_type": "code",
   "execution_count": 20,
   "metadata": {
    "scrolled": true
   },
   "outputs": [
    {
     "data": {
      "text/html": [
       "<div>\n",
       "<style scoped>\n",
       "    .dataframe tbody tr th:only-of-type {\n",
       "        vertical-align: middle;\n",
       "    }\n",
       "\n",
       "    .dataframe tbody tr th {\n",
       "        vertical-align: top;\n",
       "    }\n",
       "\n",
       "    .dataframe thead th {\n",
       "        text-align: right;\n",
       "    }\n",
       "</style>\n",
       "<table border=\"1\" class=\"dataframe\">\n",
       "  <thead>\n",
       "    <tr style=\"text-align: right;\">\n",
       "      <th></th>\n",
       "      <th>status</th>\n",
       "      <th>count_status</th>\n",
       "    </tr>\n",
       "  </thead>\n",
       "  <tbody>\n",
       "    <tr>\n",
       "      <th>0</th>\n",
       "      <td>available</td>\n",
       "      <td>4</td>\n",
       "    </tr>\n",
       "    <tr>\n",
       "      <th>1</th>\n",
       "      <td>expired</td>\n",
       "      <td>2</td>\n",
       "    </tr>\n",
       "    <tr>\n",
       "      <th>2</th>\n",
       "      <td>retrieved</td>\n",
       "      <td>8</td>\n",
       "    </tr>\n",
       "  </tbody>\n",
       "</table>\n",
       "</div>"
      ],
      "text/plain": [
       "      status  count_status\n",
       "0  available             4\n",
       "1    expired             2\n",
       "2  retrieved             8"
      ]
     },
     "execution_count": 20,
     "metadata": {},
     "output_type": "execute_result"
    }
   ],
   "source": [
    "status = df_reports.groupby('status')\n",
    "count_status = status.size().reset_index(name='count_status')\n",
    "count_status"
   ]
  },
  {
   "cell_type": "markdown",
   "metadata": {},
   "source": [
    "Plot a `bar graph` to showcase the number of item types that were available/expired/retrieved in SIS."
   ]
  },
  {
   "cell_type": "code",
   "execution_count": 21,
   "metadata": {},
   "outputs": [
    {
     "data": {
      "application/vnd.plotly.v1+json": {
       "config": {
        "linkText": "Export to plot.ly",
        "plotlyServerURL": "https://plot.ly",
        "showLink": false
       },
       "data": [
        {
         "name": "count_status",
         "type": "bar",
         "uid": "fc06b2a3-1927-42e1-a4ba-57e26a72dab2",
         "x": [
          "available",
          "expired",
          "retrieved"
         ],
         "y": [
          4,
          2,
          8
         ]
        }
       ],
       "layout": {
        "legend": {
         "x": 1,
         "y": 1
        },
        "showlegend": true,
        "title": {
         "text": "Status distribution"
        },
        "xaxis": {
         "title": {
          "text": "Status"
         }
        },
        "yaxis": {
         "title": {
          "text": "No. of items reported found"
         }
        }
       }
      },
      "text/html": [
       "<div id=\"297e80f1-2601-4cf9-bd85-938242f24cc3\" style=\"height: 525px; width: 100%;\" class=\"plotly-graph-div\"></div><script type=\"text/javascript\">require([\"plotly\"], function(Plotly) { window.PLOTLYENV=window.PLOTLYENV || {};window.PLOTLYENV.BASE_URL=\"https://plot.ly\";\n",
       "if (document.getElementById(\"297e80f1-2601-4cf9-bd85-938242f24cc3\")) {\n",
       "    Plotly.newPlot(\"297e80f1-2601-4cf9-bd85-938242f24cc3\", [{\"name\": \"count_status\", \"x\": [\"available\", \"expired\", \"retrieved\"], \"y\": [4, 2, 8], \"type\": \"bar\", \"uid\": \"fc06b2a3-1927-42e1-a4ba-57e26a72dab2\"}], {\"legend\": {\"x\": 1, \"y\": 1}, \"showlegend\": true, \"title\": {\"text\": \"Status distribution\"}, \"xaxis\": {\"title\": {\"text\": \"Status\"}}, \"yaxis\": {\"title\": {\"text\": \"No. of items reported found\"}}}, {\"showLink\": false, \"linkText\": \"Export to plot.ly\", \"plotlyServerURL\": \"https://plot.ly\"}); \n",
       "}\n",
       "});</script><script type=\"text/javascript\">window.addEventListener(\"resize\", function(){if (document.getElementById(\"297e80f1-2601-4cf9-bd85-938242f24cc3\")) {window._Plotly.Plots.resize(document.getElementById(\"297e80f1-2601-4cf9-bd85-938242f24cc3\"));};})</script>"
      ],
      "text/vnd.plotly.v1+html": [
       "<div id=\"297e80f1-2601-4cf9-bd85-938242f24cc3\" style=\"height: 525px; width: 100%;\" class=\"plotly-graph-div\"></div><script type=\"text/javascript\">require([\"plotly\"], function(Plotly) { window.PLOTLYENV=window.PLOTLYENV || {};window.PLOTLYENV.BASE_URL=\"https://plot.ly\";\n",
       "if (document.getElementById(\"297e80f1-2601-4cf9-bd85-938242f24cc3\")) {\n",
       "    Plotly.newPlot(\"297e80f1-2601-4cf9-bd85-938242f24cc3\", [{\"name\": \"count_status\", \"x\": [\"available\", \"expired\", \"retrieved\"], \"y\": [4, 2, 8], \"type\": \"bar\", \"uid\": \"fc06b2a3-1927-42e1-a4ba-57e26a72dab2\"}], {\"legend\": {\"x\": 1, \"y\": 1}, \"showlegend\": true, \"title\": {\"text\": \"Status distribution\"}, \"xaxis\": {\"title\": {\"text\": \"Status\"}}, \"yaxis\": {\"title\": {\"text\": \"No. of items reported found\"}}}, {\"showLink\": false, \"linkText\": \"Export to plot.ly\", \"plotlyServerURL\": \"https://plot.ly\"}); \n",
       "}\n",
       "});</script><script type=\"text/javascript\">window.addEventListener(\"resize\", function(){if (document.getElementById(\"297e80f1-2601-4cf9-bd85-938242f24cc3\")) {window._Plotly.Plots.resize(document.getElementById(\"297e80f1-2601-4cf9-bd85-938242f24cc3\"));};})</script>"
      ]
     },
     "metadata": {},
     "output_type": "display_data"
    }
   ],
   "source": [
    "results4 = go.Bar(x=count_status['status'], y=count_status['count_status'], name='count_status')\n",
    "data = [results4]\n",
    "layout = go.Layout(title='Status distribution', \n",
    "                   xaxis={'title':'Status'}, \n",
    "                   yaxis={'title':'No. of items reported found'}, showlegend=True, legend=dict(x=1, y=1)) \n",
    "\n",
    "fig = go.Figure(data=data, layout=layout)\n",
    "iplot(fig)"
   ]
  },
  {
   "cell_type": "markdown",
   "metadata": {},
   "source": [
    "Plot a `pie chart` to showcase the spread of found and reported items with their proportion in SIS."
   ]
  },
  {
   "cell_type": "code",
   "execution_count": 22,
   "metadata": {
    "scrolled": true
   },
   "outputs": [
    {
     "data": {
      "application/vnd.plotly.v1+json": {
       "config": {
        "linkText": "Export to plot.ly",
        "plotlyServerURL": "https://plot.ly",
        "showLink": false
       },
       "data": [
        {
         "labels": [
          "available",
          "expired",
          "retrieved"
         ],
         "type": "pie",
         "uid": "570d1b51-5128-4ab6-bd84-24bb49571c78",
         "values": [
          4,
          2,
          8
         ]
        }
       ],
       "layout": {
        "title": {
         "text": "Status distribution"
        }
       }
      },
      "text/html": [
       "<div id=\"a24fe6c6-fd82-4e46-a1ac-0a15aca46eb7\" style=\"height: 525px; width: 100%;\" class=\"plotly-graph-div\"></div><script type=\"text/javascript\">require([\"plotly\"], function(Plotly) { window.PLOTLYENV=window.PLOTLYENV || {};window.PLOTLYENV.BASE_URL=\"https://plot.ly\";\n",
       "if (document.getElementById(\"a24fe6c6-fd82-4e46-a1ac-0a15aca46eb7\")) {\n",
       "    Plotly.newPlot(\"a24fe6c6-fd82-4e46-a1ac-0a15aca46eb7\", [{\"labels\": [\"available\", \"expired\", \"retrieved\"], \"values\": [4, 2, 8], \"type\": \"pie\", \"uid\": \"570d1b51-5128-4ab6-bd84-24bb49571c78\"}], {\"title\": {\"text\": \"Status distribution\"}}, {\"showLink\": false, \"linkText\": \"Export to plot.ly\", \"plotlyServerURL\": \"https://plot.ly\"}); \n",
       "}\n",
       "});</script><script type=\"text/javascript\">window.addEventListener(\"resize\", function(){if (document.getElementById(\"a24fe6c6-fd82-4e46-a1ac-0a15aca46eb7\")) {window._Plotly.Plots.resize(document.getElementById(\"a24fe6c6-fd82-4e46-a1ac-0a15aca46eb7\"));};})</script>"
      ],
      "text/vnd.plotly.v1+html": [
       "<div id=\"a24fe6c6-fd82-4e46-a1ac-0a15aca46eb7\" style=\"height: 525px; width: 100%;\" class=\"plotly-graph-div\"></div><script type=\"text/javascript\">require([\"plotly\"], function(Plotly) { window.PLOTLYENV=window.PLOTLYENV || {};window.PLOTLYENV.BASE_URL=\"https://plot.ly\";\n",
       "if (document.getElementById(\"a24fe6c6-fd82-4e46-a1ac-0a15aca46eb7\")) {\n",
       "    Plotly.newPlot(\"a24fe6c6-fd82-4e46-a1ac-0a15aca46eb7\", [{\"labels\": [\"available\", \"expired\", \"retrieved\"], \"values\": [4, 2, 8], \"type\": \"pie\", \"uid\": \"570d1b51-5128-4ab6-bd84-24bb49571c78\"}], {\"title\": {\"text\": \"Status distribution\"}}, {\"showLink\": false, \"linkText\": \"Export to plot.ly\", \"plotlyServerURL\": \"https://plot.ly\"}); \n",
       "}\n",
       "});</script><script type=\"text/javascript\">window.addEventListener(\"resize\", function(){if (document.getElementById(\"a24fe6c6-fd82-4e46-a1ac-0a15aca46eb7\")) {window._Plotly.Plots.resize(document.getElementById(\"a24fe6c6-fd82-4e46-a1ac-0a15aca46eb7\"));};})</script>"
      ]
     },
     "metadata": {},
     "output_type": "display_data"
    }
   ],
   "source": [
    "trace5 = go.Pie(labels=count_status['status'], values=count_status['count_status'])\n",
    "layout = go.Layout(title='Status distribution') \n",
    "\n",
    "fig = go.Figure(data=[trace5], layout=layout)\n",
    "iplot(fig)"
   ]
  },
  {
   "cell_type": "markdown",
   "metadata": {},
   "source": [
    "<hr>\n",
    "## 3.1 Item type distribution by status\n",
    "\n",
    "Let's now break down our analysis to dive into the distributed of item types based on each status."
   ]
  },
  {
   "cell_type": "code",
   "execution_count": 23,
   "metadata": {},
   "outputs": [],
   "source": [
    "import re\n",
    "import pandas as pd\n",
    "import numpy as np\n",
    "import seaborn as sns\n",
    "import matplotlib.pyplot as plt\n",
    "\n",
    "pd.options.display.float_format = '{:,.2f}'.format\n",
    "%matplotlib inline\n",
    "sns.set()\n",
    "DIMS=(16, 6)"
   ]
  },
  {
   "cell_type": "code",
   "execution_count": 24,
   "metadata": {},
   "outputs": [
    {
     "data": {
      "text/html": [
       "<div>\n",
       "<style scoped>\n",
       "    .dataframe tbody tr th:only-of-type {\n",
       "        vertical-align: middle;\n",
       "    }\n",
       "\n",
       "    .dataframe tbody tr th {\n",
       "        vertical-align: top;\n",
       "    }\n",
       "\n",
       "    .dataframe thead th {\n",
       "        text-align: right;\n",
       "    }\n",
       "</style>\n",
       "<table border=\"1\" class=\"dataframe\">\n",
       "  <thead>\n",
       "    <tr style=\"text-align: right;\">\n",
       "      <th></th>\n",
       "      <th>itemtype</th>\n",
       "      <th>status</th>\n",
       "      <th>No. of items reported found</th>\n",
       "    </tr>\n",
       "  </thead>\n",
       "  <tbody>\n",
       "    <tr>\n",
       "      <th>0</th>\n",
       "      <td>Laptop Charger</td>\n",
       "      <td>retrieved</td>\n",
       "      <td>5</td>\n",
       "    </tr>\n",
       "    <tr>\n",
       "      <th>1</th>\n",
       "      <td>Matriculation Card</td>\n",
       "      <td>available</td>\n",
       "      <td>1</td>\n",
       "    </tr>\n",
       "    <tr>\n",
       "      <th>2</th>\n",
       "      <td>Matriculation Card</td>\n",
       "      <td>retrieved</td>\n",
       "      <td>3</td>\n",
       "    </tr>\n",
       "    <tr>\n",
       "      <th>3</th>\n",
       "      <td>Others</td>\n",
       "      <td>available</td>\n",
       "      <td>1</td>\n",
       "    </tr>\n",
       "    <tr>\n",
       "      <th>4</th>\n",
       "      <td>Wallet</td>\n",
       "      <td>available</td>\n",
       "      <td>1</td>\n",
       "    </tr>\n",
       "    <tr>\n",
       "      <th>5</th>\n",
       "      <td>Wallet</td>\n",
       "      <td>expired</td>\n",
       "      <td>2</td>\n",
       "    </tr>\n",
       "    <tr>\n",
       "      <th>6</th>\n",
       "      <td>Water Bottle</td>\n",
       "      <td>available</td>\n",
       "      <td>1</td>\n",
       "    </tr>\n",
       "  </tbody>\n",
       "</table>\n",
       "</div>"
      ],
      "text/plain": [
       "             itemtype     status  No. of items reported found\n",
       "0      Laptop Charger  retrieved                            5\n",
       "1  Matriculation Card  available                            1\n",
       "2  Matriculation Card  retrieved                            3\n",
       "3              Others  available                            1\n",
       "4              Wallet  available                            1\n",
       "5              Wallet    expired                            2\n",
       "6        Water Bottle  available                            1"
      ]
     },
     "execution_count": 24,
     "metadata": {},
     "output_type": "execute_result"
    }
   ],
   "source": [
    "status1 = df_reports[['itemtype', 'status']]\n",
    "status2 = status1.groupby(['itemtype', 'status']).size().reset_index(name=\"No. of items reported found\")\n",
    "status2"
   ]
  },
  {
   "cell_type": "code",
   "execution_count": 25,
   "metadata": {},
   "outputs": [
    {
     "data": {
      "text/html": [
       "<div>\n",
       "<style scoped>\n",
       "    .dataframe tbody tr th:only-of-type {\n",
       "        vertical-align: middle;\n",
       "    }\n",
       "\n",
       "    .dataframe tbody tr th {\n",
       "        vertical-align: top;\n",
       "    }\n",
       "\n",
       "    .dataframe thead th {\n",
       "        text-align: right;\n",
       "    }\n",
       "</style>\n",
       "<table border=\"1\" class=\"dataframe\">\n",
       "  <thead>\n",
       "    <tr style=\"text-align: right;\">\n",
       "      <th>status</th>\n",
       "      <th>itemtype</th>\n",
       "      <th>available</th>\n",
       "      <th>expired</th>\n",
       "      <th>retrieved</th>\n",
       "    </tr>\n",
       "  </thead>\n",
       "  <tbody>\n",
       "    <tr>\n",
       "      <th>0</th>\n",
       "      <td>Laptop Charger</td>\n",
       "      <td>nan</td>\n",
       "      <td>nan</td>\n",
       "      <td>5.00</td>\n",
       "    </tr>\n",
       "    <tr>\n",
       "      <th>1</th>\n",
       "      <td>Matriculation Card</td>\n",
       "      <td>1.00</td>\n",
       "      <td>nan</td>\n",
       "      <td>3.00</td>\n",
       "    </tr>\n",
       "    <tr>\n",
       "      <th>2</th>\n",
       "      <td>Others</td>\n",
       "      <td>1.00</td>\n",
       "      <td>nan</td>\n",
       "      <td>nan</td>\n",
       "    </tr>\n",
       "    <tr>\n",
       "      <th>3</th>\n",
       "      <td>Wallet</td>\n",
       "      <td>1.00</td>\n",
       "      <td>2.00</td>\n",
       "      <td>nan</td>\n",
       "    </tr>\n",
       "    <tr>\n",
       "      <th>4</th>\n",
       "      <td>Water Bottle</td>\n",
       "      <td>1.00</td>\n",
       "      <td>nan</td>\n",
       "      <td>nan</td>\n",
       "    </tr>\n",
       "  </tbody>\n",
       "</table>\n",
       "</div>"
      ],
      "text/plain": [
       "status            itemtype  available  expired  retrieved\n",
       "0           Laptop Charger        nan      nan       5.00\n",
       "1       Matriculation Card       1.00      nan       3.00\n",
       "2                   Others       1.00      nan        nan\n",
       "3                   Wallet       1.00     2.00        nan\n",
       "4             Water Bottle       1.00      nan        nan"
      ]
     },
     "execution_count": 25,
     "metadata": {},
     "output_type": "execute_result"
    }
   ],
   "source": [
    "status2_pivot = pd.pivot_table(status2, index=['itemtype'], columns=['status'],\n",
    "                                       values='No. of items reported found', aggfunc=np.sum)\n",
    "status2_pivot = status2_pivot.reset_index()\n",
    "status2_pivot"
   ]
  },
  {
   "cell_type": "code",
   "execution_count": 26,
   "metadata": {
    "scrolled": true
   },
   "outputs": [
    {
     "data": {
      "image/png": "[encoded data removed]",
      "text/plain": [
       "<Figure size 1152x504 with 3 Axes>"
      ]
     },
     "metadata": {},
     "output_type": "display_data"
    }
   ],
   "source": [
    "fig = plt.figure(figsize=(16, 7))\n",
    "\n",
    "ax1 = fig.add_subplot(1,3,1)\n",
    "ax2 = fig.add_subplot(1,3,2)\n",
    "ax3 = fig.add_subplot(1,3,3)\n",
    "\n",
    "\n",
    "sns.barplot(x=status2_pivot['itemtype'], y=status2_pivot['available'], ax=ax1\n",
    "           ,color=\"tomato\")\n",
    "ax1.set_ylabel(\"No. of items\")\n",
    "ax1.set_title(\"available\")\n",
    "ax1.set_yticks(np.arange(0, 6))\n",
    "ax1.set_xticklabels(status2_pivot['itemtype'], rotation=40)\n",
    "\n",
    "sns.barplot(x=status2_pivot['itemtype'], y=status2_pivot['expired'], ax=ax2\n",
    "           ,color=\"skyblue\")\n",
    "ax2.set_title(\"expired\")\n",
    "ax2.set_ylabel(\"No. of items\")\n",
    "ax2.set_yticks(np.arange(0, 6))\n",
    "ax2.set_xticklabels(status2_pivot['itemtype'], rotation=40)\n",
    "\n",
    "sns.barplot(x=status2_pivot['itemtype'], y=status2_pivot['retrieved'], ax=ax3\n",
    "           ,color=\"yellow\")\n",
    "ax3.set_title(\"retrieved\")\n",
    "ax3.set_ylabel(\"No. of items\")\n",
    "ax3.set_yticks(np.arange(0, 6))\n",
    "ax3.set_xticklabels(status2_pivot['itemtype'], rotation=40)\n",
    "\n",
    "plt.show()"
   ]
  },
  {
   "cell_type": "markdown",
   "metadata": {},
   "source": [
    "<hr>\n",
    "## 3.1.2 Item type distribution by status - Combined\n",
    "\n",
    "Let's now break down our analysis to dive into the distribution of status based on each item type."
   ]
  },
  {
   "cell_type": "code",
   "execution_count": 27,
   "metadata": {
    "scrolled": true
   },
   "outputs": [
    {
     "data": {
      "text/html": [
       "<div>\n",
       "<style scoped>\n",
       "    .dataframe tbody tr th:only-of-type {\n",
       "        vertical-align: middle;\n",
       "    }\n",
       "\n",
       "    .dataframe tbody tr th {\n",
       "        vertical-align: top;\n",
       "    }\n",
       "\n",
       "    .dataframe thead th {\n",
       "        text-align: right;\n",
       "    }\n",
       "</style>\n",
       "<table border=\"1\" class=\"dataframe\">\n",
       "  <thead>\n",
       "    <tr style=\"text-align: right;\">\n",
       "      <th>itemtype</th>\n",
       "      <th>status</th>\n",
       "      <th>Laptop Charger</th>\n",
       "      <th>Matriculation Card</th>\n",
       "      <th>Others</th>\n",
       "      <th>Wallet</th>\n",
       "      <th>Water Bottle</th>\n",
       "    </tr>\n",
       "  </thead>\n",
       "  <tbody>\n",
       "    <tr>\n",
       "      <th>0</th>\n",
       "      <td>available</td>\n",
       "      <td>nan</td>\n",
       "      <td>1.00</td>\n",
       "      <td>1.00</td>\n",
       "      <td>1.00</td>\n",
       "      <td>1.00</td>\n",
       "    </tr>\n",
       "    <tr>\n",
       "      <th>1</th>\n",
       "      <td>expired</td>\n",
       "      <td>nan</td>\n",
       "      <td>nan</td>\n",
       "      <td>nan</td>\n",
       "      <td>2.00</td>\n",
       "      <td>nan</td>\n",
       "    </tr>\n",
       "    <tr>\n",
       "      <th>2</th>\n",
       "      <td>retrieved</td>\n",
       "      <td>5.00</td>\n",
       "      <td>3.00</td>\n",
       "      <td>nan</td>\n",
       "      <td>nan</td>\n",
       "      <td>nan</td>\n",
       "    </tr>\n",
       "  </tbody>\n",
       "</table>\n",
       "</div>"
      ],
      "text/plain": [
       "itemtype     status  Laptop Charger  Matriculation Card  Others  Wallet  \\\n",
       "0         available             nan                1.00    1.00    1.00   \n",
       "1           expired             nan                 nan     nan    2.00   \n",
       "2         retrieved            5.00                3.00     nan     nan   \n",
       "\n",
       "itemtype  Water Bottle  \n",
       "0                 1.00  \n",
       "1                  nan  \n",
       "2                  nan  "
      ]
     },
     "execution_count": 27,
     "metadata": {},
     "output_type": "execute_result"
    }
   ],
   "source": [
    "status4_pivot = pd.pivot_table(status2, index=['status'], columns=['itemtype'],\n",
    "                                       values='No. of items reported found', aggfunc=np.sum)\n",
    "status4_pivot = status4_pivot.reset_index()\n",
    "status4_pivot"
   ]
  },
  {
   "cell_type": "code",
   "execution_count": 28,
   "metadata": {},
   "outputs": [
    {
     "data": {
      "image/png": "[encoded data removed]",
      "text/plain": [
       "<Figure size 1152x432 with 1 Axes>"
      ]
     },
     "metadata": {},
     "output_type": "display_data"
    }
   ],
   "source": [
    "fig, ax1 = plt.subplots()\n",
    "status4_pivot.plot(kind='bar', stacked=True, \n",
    "                                  figsize=DIMS, title=\"Item type distribution for each status\",\n",
    "                                   ax=ax1)\n",
    "ax1.set_ylabel(\"Count\")\n",
    "ax1.set_xticklabels(status4_pivot['status'], rotation=40)\n",
    "\n",
    "plt.show()"
   ]
  },
  {
   "cell_type": "markdown",
   "metadata": {},
   "source": [
    "<hr>\n",
    "## 3.2 Status distribution by item type\n",
    "\n",
    "Let's now break down our analysis to dive into the distribution of status based on each item type."
   ]
  },
  {
   "cell_type": "code",
   "execution_count": 29,
   "metadata": {},
   "outputs": [
    {
     "data": {
      "text/html": [
       "<div>\n",
       "<style scoped>\n",
       "    .dataframe tbody tr th:only-of-type {\n",
       "        vertical-align: middle;\n",
       "    }\n",
       "\n",
       "    .dataframe tbody tr th {\n",
       "        vertical-align: top;\n",
       "    }\n",
       "\n",
       "    .dataframe thead th {\n",
       "        text-align: right;\n",
       "    }\n",
       "</style>\n",
       "<table border=\"1\" class=\"dataframe\">\n",
       "  <thead>\n",
       "    <tr style=\"text-align: right;\">\n",
       "      <th>status</th>\n",
       "      <th>available</th>\n",
       "      <th>expired</th>\n",
       "      <th>retrieved</th>\n",
       "    </tr>\n",
       "    <tr>\n",
       "      <th>itemtype</th>\n",
       "      <th></th>\n",
       "      <th></th>\n",
       "      <th></th>\n",
       "    </tr>\n",
       "  </thead>\n",
       "  <tbody>\n",
       "    <tr>\n",
       "      <th>Laptop Charger</th>\n",
       "      <td>nan</td>\n",
       "      <td>nan</td>\n",
       "      <td>5.00</td>\n",
       "    </tr>\n",
       "    <tr>\n",
       "      <th>Matriculation Card</th>\n",
       "      <td>1.00</td>\n",
       "      <td>nan</td>\n",
       "      <td>3.00</td>\n",
       "    </tr>\n",
       "    <tr>\n",
       "      <th>Others</th>\n",
       "      <td>1.00</td>\n",
       "      <td>nan</td>\n",
       "      <td>nan</td>\n",
       "    </tr>\n",
       "    <tr>\n",
       "      <th>Wallet</th>\n",
       "      <td>1.00</td>\n",
       "      <td>2.00</td>\n",
       "      <td>nan</td>\n",
       "    </tr>\n",
       "    <tr>\n",
       "      <th>Water Bottle</th>\n",
       "      <td>1.00</td>\n",
       "      <td>nan</td>\n",
       "      <td>nan</td>\n",
       "    </tr>\n",
       "  </tbody>\n",
       "</table>\n",
       "</div>"
      ],
      "text/plain": [
       "status              available  expired  retrieved\n",
       "itemtype                                         \n",
       "Laptop Charger            nan      nan       5.00\n",
       "Matriculation Card       1.00      nan       3.00\n",
       "Others                   1.00      nan        nan\n",
       "Wallet                   1.00     2.00        nan\n",
       "Water Bottle             1.00      nan        nan"
      ]
     },
     "execution_count": 29,
     "metadata": {},
     "output_type": "execute_result"
    }
   ],
   "source": [
    "status3_pivot = status2_pivot.set_index('itemtype')\n",
    "status3_pivot"
   ]
  },
  {
   "cell_type": "code",
   "execution_count": 36,
   "metadata": {
    "scrolled": false
   },
   "outputs": [
    {
     "data": {
      "image/png": "[encoded data removed]",
      "text/plain": [
       "<Figure size 1152x432 with 1 Axes>"
      ]
     },
     "metadata": {},
     "output_type": "display_data"
    }
   ],
   "source": [
    "fig, ax1 = plt.subplots()\n",
    "status3_pivot.plot(kind='bar', stacked=True, \n",
    "                                  figsize=DIMS, title=\"Status distribution for each item type\",\n",
    "                                   ax=ax1)\n",
    "ax1.set_ylabel(\"Count\")\n",
    "\n",
    "plt.show()"
   ]
  },
  {
   "cell_type": "markdown",
   "metadata": {},
   "source": [
    "<img src=\"img/image.png\" alt=\"Drawing\" style=\"width: 200px;\"/>"
   ]
  }
 ],
 "metadata": {
  "kernelspec": {
   "display_name": "Python 3",
   "language": "python",
   "name": "python3"
  },
  "language_info": {
   "codemirror_mode": {
    "name": "ipython",
    "version": 3
   },
   "file_extension": ".py",
   "mimetype": "text/x-python",
   "name": "python",
   "nbconvert_exporter": "python",
   "pygments_lexer": "ipython3",
   "version": "3.6.5"
  }
 },
 "nbformat": 4,
 "nbformat_minor": 2
}
